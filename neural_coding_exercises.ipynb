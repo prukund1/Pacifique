{
  "nbformat": 4,
  "nbformat_minor": 0,
  "metadata": {
    "colab": {
      "name": "neural-coding-exercises.ipynb",
      "version": "0.3.2",
      "provenance": [],
      "collapsed_sections": [
        "FgzyOY7zC9IZ",
        "3qfeko44C9JN",
        "u-BtlNFsC9KE",
        "RHQxz8uTC9Ka"
      ],
      "include_colab_link": true
    },
    "kernelspec": {
      "display_name": "Python 3",
      "language": "python",
      "name": "python3"
    }
  },
  "cells": [
    {
      "cell_type": "markdown",
      "metadata": {
        "id": "view-in-github",
        "colab_type": "text"
      },
      "source": [
        "<a href=\"https://colab.research.google.com/github/prukund1/Pacifique/blob/master/neural_coding_exercises.ipynb\" target=\"_parent\"><img src=\"https://colab.research.google.com/assets/colab-badge.svg\" alt=\"Open In Colab\"/></a>"
      ]
    },
    {
      "metadata": {
        "id": "mnXvinubC9F4",
        "colab_type": "code",
        "outputId": "9e181a62-c6d8-461f-b42a-37b039adc605",
        "colab": {
          "base_uri": "https://localhost:8080/",
          "height": 241
        }
      },
      "cell_type": "code",
      "source": [
        "# Upgrade seaborn for colab\n",
        "!pip install -U seaborn"
      ],
      "execution_count": 0,
      "outputs": [
        {
          "output_type": "stream",
          "text": [
            "Requirement already up-to-date: seaborn in /usr/local/lib/python3.6/dist-packages (0.9.0)\n",
            "Requirement already satisfied, skipping upgrade: scipy>=0.14.0 in /usr/local/lib/python3.6/dist-packages (from seaborn) (1.1.0)\n",
            "Requirement already satisfied, skipping upgrade: numpy>=1.9.3 in /usr/local/lib/python3.6/dist-packages (from seaborn) (1.14.6)\n",
            "Requirement already satisfied, skipping upgrade: pandas>=0.15.2 in /usr/local/lib/python3.6/dist-packages (from seaborn) (0.22.0)\n",
            "Requirement already satisfied, skipping upgrade: matplotlib>=1.4.3 in /usr/local/lib/python3.6/dist-packages (from seaborn) (3.0.2)\n",
            "Requirement already satisfied, skipping upgrade: pytz>=2011k in /usr/local/lib/python3.6/dist-packages (from pandas>=0.15.2->seaborn) (2018.9)\n",
            "Requirement already satisfied, skipping upgrade: python-dateutil>=2 in /usr/local/lib/python3.6/dist-packages (from pandas>=0.15.2->seaborn) (2.5.3)\n",
            "Requirement already satisfied, skipping upgrade: pyparsing!=2.0.4,!=2.1.2,!=2.1.6,>=2.0.1 in /usr/local/lib/python3.6/dist-packages (from matplotlib>=1.4.3->seaborn) (2.3.1)\n",
            "Requirement already satisfied, skipping upgrade: cycler>=0.10 in /usr/local/lib/python3.6/dist-packages (from matplotlib>=1.4.3->seaborn) (0.10.0)\n",
            "Requirement already satisfied, skipping upgrade: kiwisolver>=1.0.1 in /usr/local/lib/python3.6/dist-packages (from matplotlib>=1.4.3->seaborn) (1.0.1)\n",
            "Requirement already satisfied, skipping upgrade: six>=1.5 in /usr/local/lib/python3.6/dist-packages (from python-dateutil>=2->pandas>=0.15.2->seaborn) (1.11.0)\n",
            "Requirement already satisfied, skipping upgrade: setuptools in /usr/local/lib/python3.6/dist-packages (from kiwisolver>=1.0.1->matplotlib>=1.4.3->seaborn) (40.8.0)\n"
          ],
          "name": "stdout"
        }
      ]
    },
    {
      "metadata": {
        "id": "bY3hDOP4C9GQ",
        "colab_type": "code",
        "colab": {}
      },
      "cell_type": "code",
      "source": [
        "%matplotlib inline\n",
        "import matplotlib.pyplot as plt\n",
        "import numpy as np\n",
        "import pandas as pd\n",
        "import seaborn as sns\n",
        "import h5py\n",
        "sns.set(font_scale=1.5)"
      ],
      "execution_count": 0,
      "outputs": []
    },
    {
      "metadata": {
        "id": "4iiWxP-RC9Gh",
        "colab_type": "text"
      },
      "cell_type": "markdown",
      "source": [
        "## Let's load some data obtained by the Buzsaki lab at NYU.  They recorded from the hippocampus of a rat while it ran back and forth across a linear track"
      ]
    },
    {
      "metadata": {
        "id": "IPZvLrcdC9Go",
        "colab_type": "code",
        "colab": {}
      },
      "cell_type": "code",
      "source": [
        "# The first file contains the times, cell IDs, and animal location for each spike that occurred\n",
        "spikes = pd.read_csv('https://github.com/rgerkin/neuro-data-analysis-course/raw/master/data/place_cell_spike_data.csv')\n",
        "\n",
        "# The first file contains the times, cell IDs, and animal location for each spike that occurred\n",
        "locations = pd.read_csv('https://github.com/rgerkin/neuro-data-analysis-course/raw/master/data/place_cell_location_data.csv')"
      ],
      "execution_count": 0,
      "outputs": []
    },
    {
      "metadata": {
        "id": "s7I9pD27C9Gw",
        "colab_type": "text"
      },
      "cell_type": "markdown",
      "source": [
        "#### This first dataframe contains one row for each spike that was recorded.  The cell_id is arbitrary, but any two rows with the same cell id correspond to spikes reocrded from the same cell.  The index is time (starting several hours into the experiment), and the other columns are the linear location on the track (\"d\", measured from the track's left edge) and also the actual 2d coordinates (\"x\" and \"y\", which we will ignore). I've restricted the data to 0.2m < d < 1.4m, which is where the rat actually runs on the track (instead of sitting at the ends doing nothing).  "
      ]
    },
    {
      "metadata": {
        "id": "AmB6L5M3C9G2",
        "colab_type": "code",
        "outputId": "3e1198ca-8d76-4a0c-eb4a-f1f55e676ae4",
        "colab": {
          "base_uri": "https://localhost:8080/",
          "height": 235
        }
      },
      "cell_type": "code",
      "source": [
        "spikes = spikes.set_index('t')\n",
        "spikes.head()"
      ],
      "execution_count": 0,
      "outputs": [
        {
          "output_type": "execute_result",
          "data": {
            "text/html": [
              "<div>\n",
              "<style scoped>\n",
              "    .dataframe tbody tr th:only-of-type {\n",
              "        vertical-align: middle;\n",
              "    }\n",
              "\n",
              "    .dataframe tbody tr th {\n",
              "        vertical-align: top;\n",
              "    }\n",
              "\n",
              "    .dataframe thead th {\n",
              "        text-align: right;\n",
              "    }\n",
              "</style>\n",
              "<table border=\"1\" class=\"dataframe\">\n",
              "  <thead>\n",
              "    <tr style=\"text-align: right;\">\n",
              "      <th></th>\n",
              "      <th>cell_ids</th>\n",
              "      <th>d</th>\n",
              "      <th>x</th>\n",
              "      <th>y</th>\n",
              "    </tr>\n",
              "    <tr>\n",
              "      <th>t</th>\n",
              "      <th></th>\n",
              "      <th></th>\n",
              "      <th></th>\n",
              "      <th></th>\n",
              "    </tr>\n",
              "  </thead>\n",
              "  <tbody>\n",
              "    <tr>\n",
              "      <th>18194.76930</th>\n",
              "      <td>609</td>\n",
              "      <td>0.200284</td>\n",
              "      <td>-0.061786</td>\n",
              "      <td>-0.189188</td>\n",
              "    </tr>\n",
              "    <tr>\n",
              "      <th>18194.77235</th>\n",
              "      <td>529</td>\n",
              "      <td>0.201205</td>\n",
              "      <td>-0.060900</td>\n",
              "      <td>-0.189143</td>\n",
              "    </tr>\n",
              "    <tr>\n",
              "      <th>18194.77305</th>\n",
              "      <td>1209</td>\n",
              "      <td>0.202125</td>\n",
              "      <td>-0.060015</td>\n",
              "      <td>-0.189098</td>\n",
              "    </tr>\n",
              "    <tr>\n",
              "      <th>18194.77855</th>\n",
              "      <td>416</td>\n",
              "      <td>0.203724</td>\n",
              "      <td>-0.058476</td>\n",
              "      <td>-0.189284</td>\n",
              "    </tr>\n",
              "    <tr>\n",
              "      <th>18194.77955</th>\n",
              "      <td>828</td>\n",
              "      <td>0.204402</td>\n",
              "      <td>-0.057822</td>\n",
              "      <td>-0.189515</td>\n",
              "    </tr>\n",
              "  </tbody>\n",
              "</table>\n",
              "</div>"
            ],
            "text/plain": [
              "             cell_ids         d         x         y\n",
              "t                                                  \n",
              "18194.76930       609  0.200284 -0.061786 -0.189188\n",
              "18194.77235       529  0.201205 -0.060900 -0.189143\n",
              "18194.77305      1209  0.202125 -0.060015 -0.189098\n",
              "18194.77855       416  0.203724 -0.058476 -0.189284\n",
              "18194.77955       828  0.204402 -0.057822 -0.189515"
            ]
          },
          "metadata": {
            "tags": []
          },
          "execution_count": 4
        }
      ]
    },
    {
      "metadata": {
        "id": "91ah6Ii4C9G9",
        "colab_type": "text"
      },
      "cell_type": "markdown",
      "source": [
        "#### The second dataframe contains one row for each ~25 ms of elapsed time.  They were recording the movement of the rat with a video camera, so each row is derived from one frame of that movie.  "
      ]
    },
    {
      "metadata": {
        "id": "MpmY81KBC9HB",
        "colab_type": "code",
        "outputId": "2c76ced2-b14a-4ada-e96a-5ab96b00a8cc",
        "colab": {
          "base_uri": "https://localhost:8080/",
          "height": 235
        }
      },
      "cell_type": "code",
      "source": [
        "locations = locations.set_index('t')\n",
        "locations.head()"
      ],
      "execution_count": 0,
      "outputs": [
        {
          "output_type": "execute_result",
          "data": {
            "text/html": [
              "<div>\n",
              "<style scoped>\n",
              "    .dataframe tbody tr th:only-of-type {\n",
              "        vertical-align: middle;\n",
              "    }\n",
              "\n",
              "    .dataframe tbody tr th {\n",
              "        vertical-align: top;\n",
              "    }\n",
              "\n",
              "    .dataframe thead th {\n",
              "        text-align: right;\n",
              "    }\n",
              "</style>\n",
              "<table border=\"1\" class=\"dataframe\">\n",
              "  <thead>\n",
              "    <tr style=\"text-align: right;\">\n",
              "      <th></th>\n",
              "      <th>d</th>\n",
              "      <th>x</th>\n",
              "      <th>y</th>\n",
              "    </tr>\n",
              "    <tr>\n",
              "      <th>t</th>\n",
              "      <th></th>\n",
              "      <th></th>\n",
              "      <th></th>\n",
              "    </tr>\n",
              "  </thead>\n",
              "  <tbody>\n",
              "    <tr>\n",
              "      <th>18194.776399</th>\n",
              "      <td>0.203045</td>\n",
              "      <td>-0.059129</td>\n",
              "      <td>-0.189053</td>\n",
              "    </tr>\n",
              "    <tr>\n",
              "      <th>18194.801998</th>\n",
              "      <td>0.213904</td>\n",
              "      <td>-0.048677</td>\n",
              "      <td>-0.192750</td>\n",
              "    </tr>\n",
              "    <tr>\n",
              "      <th>18194.827598</th>\n",
              "      <td>0.219871</td>\n",
              "      <td>-0.042934</td>\n",
              "      <td>-0.198324</td>\n",
              "    </tr>\n",
              "    <tr>\n",
              "      <th>18194.853198</th>\n",
              "      <td>0.225473</td>\n",
              "      <td>-0.037541</td>\n",
              "      <td>-0.203761</td>\n",
              "    </tr>\n",
              "    <tr>\n",
              "      <th>18194.878798</th>\n",
              "      <td>0.236299</td>\n",
              "      <td>-0.027121</td>\n",
              "      <td>-0.207461</td>\n",
              "    </tr>\n",
              "  </tbody>\n",
              "</table>\n",
              "</div>"
            ],
            "text/plain": [
              "                     d         x         y\n",
              "t                                         \n",
              "18194.776399  0.203045 -0.059129 -0.189053\n",
              "18194.801998  0.213904 -0.048677 -0.192750\n",
              "18194.827598  0.219871 -0.042934 -0.198324\n",
              "18194.853198  0.225473 -0.037541 -0.203761\n",
              "18194.878798  0.236299 -0.027121 -0.207461"
            ]
          },
          "metadata": {
            "tags": []
          },
          "execution_count": 5
        }
      ]
    },
    {
      "metadata": {
        "id": "3TiXHNXVC9HJ",
        "colab_type": "text"
      },
      "cell_type": "markdown",
      "source": [
        "## (1)"
      ]
    },
    {
      "metadata": {
        "id": "NeTxPxBvC9HL",
        "colab_type": "text"
      },
      "cell_type": "markdown",
      "source": [
        "### (a)\n",
        "#### Let's take a brief look at this data.  A good strategy is to figure out the range of your data (highs, lows, typical values) by making a histogram.  Access the \"d\" column of the locations dataframe, and then make a histogram with the `.hist()` method.  \n",
        "\n",
        "#### You can use the default number of histogram bins, or change it with the \"bins\" argument (e.g. `.hist(bins=100)`).  You should see that the rat was on most of the track, slightly preferring the left-side (near d=0) to the right side.  "
      ]
    },
    {
      "metadata": {
        "id": "c7he1OUMC9HN",
        "colab_type": "code",
        "outputId": "23f6a63b-91f6-4d17-fbd9-b13e37feeb98",
        "colab": {
          "base_uri": "https://localhost:8080/",
          "height": 304
        }
      },
      "cell_type": "code",
      "source": [
        "locations['d'].hist()\n",
        "plt.xlabel('Location along track (m)')\n",
        "plt.ylabel('# of samples that animal\\nwas present there');"
      ],
      "execution_count": 0,
      "outputs": [
        {
          "output_type": "display_data",
          "data": {
            "image/png": "[encoded data removed]",
            "text/plain": [
              "<Figure size 432x288 with 1 Axes>"
            ]
          },
          "metadata": {
            "tags": []
          }
        }
      ]
    },
    {
      "metadata": {
        "id": "PrbKpMMnC9HS",
        "colab_type": "text"
      },
      "cell_type": "markdown",
      "source": [
        "### (b)\n",
        "#### Do the same thing with the `spikes` dataframe to see at what locations on the track the spikes occurred.  "
      ]
    },
    {
      "metadata": {
        "id": "N7aBEYvKC9HU",
        "colab_type": "code",
        "outputId": "62aa15f8-11d1-408f-8f92-7f55b602427e",
        "colab": {
          "base_uri": "https://localhost:8080/",
          "height": 311
        }
      },
      "cell_type": "code",
      "source": [
        "spikes['d'].hist()\n",
        "plt.xlabel('Location along track (m)')\n",
        "plt.ylabel('# of spikes observed there');"
      ],
      "execution_count": 0,
      "outputs": [
        {
          "output_type": "display_data",
          "data": {
            "image/png": "[encoded data removed]",
            "text/plain": [
              "<Figure size 432x288 with 1 Axes>"
            ]
          },
          "metadata": {
            "tags": []
          }
        }
      ]
    },
    {
      "metadata": {
        "id": "cDUn_greC9Hd",
        "colab_type": "text"
      },
      "cell_type": "markdown",
      "source": [
        "### (c)\n",
        "#### That shows us the histogram, but we are actually going to want to use the values plotted there for our analysis.  Use the function `np.histogram` to extract the counts in each bin (the number of video frames that the rat was at that approximate location), and the locations of the edges of each bin, using 64 bins.  "
      ]
    },
    {
      "metadata": {
        "id": "pFpapEycN9e0",
        "colab_type": "code",
        "colab": {}
      },
      "cell_type": "code",
      "source": [
        ""
      ],
      "execution_count": 0,
      "outputs": []
    },
    {
      "metadata": {
        "id": "pHWLp0f1C9Hf",
        "colab_type": "code",
        "colab": {}
      },
      "cell_type": "code",
      "source": [
        "frames_at_each_location, bin_edges = np.histogram(spikes['d'], bins=64)"
      ],
      "execution_count": 0,
      "outputs": []
    },
    {
      "metadata": {
        "id": "WwfFjkn3C9Hk",
        "colab_type": "text"
      },
      "cell_type": "markdown",
      "source": [
        "#### If you check, you will see that there are 101 bin edges, not 100.  That is because each bin edge is both the left edge of one bin and the right edge of another.  Let's find the center of each bin, which is a better description of data in the bin.  "
      ]
    },
    {
      "metadata": {
        "id": "aXE9UWIYC9Hm",
        "colab_type": "code",
        "colab": {}
      },
      "cell_type": "code",
      "source": [
        "# This statement takes the average of the left-bin edges and the right-bin edges.  \n",
        "bin_centers = (bin_edges[1:] + bin_edges[:-1]) / 2\n",
        "bin_centers = bin_centers.round(3)"
      ],
      "execution_count": 0,
      "outputs": []
    },
    {
      "metadata": {
        "id": "IThJDScXC9Hs",
        "colab_type": "text"
      },
      "cell_type": "markdown",
      "source": [
        "### (d) \n",
        "#### Notice that the histogram above is noisy.  Noisy data can cause problems with analysis, especially if we do lots of mathematical operations it.  It is sometimes better to work with smoothed data.  Below I show an example of something called gaussian smoothing, One trace below is original (fake) data, and the other is smoothed data. Change the smoothing_width to 3 to get some reasonably good smoothing.  "
      ]
    },
    {
      "metadata": {
        "id": "Wz31kzWqC9Hu",
        "colab_type": "code",
        "outputId": "11f0f551-aae4-4c0f-f279-8f7ca32221e7",
        "colab": {
          "base_uri": "https://localhost:8080/",
          "height": 282
        }
      },
      "cell_type": "code",
      "source": [
        "from scipy.ndimage.filters import gaussian_filter\n",
        "noisy = np.linspace(0,3,100) + np.random.rand(100)\n",
        "smoothing_width = 3\n",
        "smooth = gaussian_filter(noisy, smoothing_width)\n",
        "plt.plot(noisy) # The blue trace\n",
        "plt.plot(smooth); # The orange trace"
      ],
      "execution_count": 0,
      "outputs": [
        {
          "output_type": "display_data",
          "data": {
            "image/png": "[encoded data removed]",
            "text/plain": [
              "<Figure size 432x288 with 1 Axes>"
            ]
          },
          "metadata": {
            "tags": []
          }
        }
      ]
    },
    {
      "metadata": {
        "id": "qJmeP9oKC9H0",
        "colab_type": "text"
      },
      "cell_type": "markdown",
      "source": [
        "### (e) \n",
        "#### Now let's smooth the location data.  First we need to figure out how long one video frame is.  They are all the same length, so we just need to subtract any two adjacent times in the index of the `locations` dataframe.  Then we need to multiply the number of frames at a given location by the duration of those frames to get the duration that the rat spent at each location.  Finally, we need to smooth those durations (using a smoothing width of 3).  "
      ]
    },
    {
      "metadata": {
        "id": "N-0_U9ftC9H1",
        "colab_type": "code",
        "outputId": "e1e0df9a-d05d-40d3-9e25-3b03c9841967",
        "colab": {
          "base_uri": "https://localhost:8080/",
          "height": 326
        }
      },
      "cell_type": "code",
      "source": [
        "frame_duration = locations.index[2] - locations.index[1]\n",
        "durations_at_each_location = frames_at_each_location * frame_duration\n",
        "durations_at_each_location = gaussian_filter(durations_at_each_location, smoothing_width)\n",
        "plt.plot(durations_at_each_location)\n",
        "plt.xlabel('Location on track (m)')\n",
        "plt.ylabel('Duration spent at this location');"
      ],
      "execution_count": 0,
      "outputs": [
        {
          "output_type": "display_data",
          "data": {
            "image/png": "[encoded data removed]",
            "text/plain": [
              "<Figure size 432x288 with 1 Axes>"
            ]
          },
          "metadata": {
            "tags": []
          }
        }
      ]
    },
    {
      "metadata": {
        "id": "cSJiSM2BC9H7",
        "colab_type": "text"
      },
      "cell_type": "markdown",
      "source": [
        "## (2)"
      ]
    },
    {
      "metadata": {
        "id": "X3QzUoI8C9H8",
        "colab_type": "text"
      },
      "cell_type": "markdown",
      "source": [
        "### (a)\n",
        "#### Now that we know about how long the rat spent at each location, and from the `spikes` dataframe we know how many spikes occurred in each cell at each location, we can compute the firing rate (spikes per second) of each cell at each location.  First, I need to make an empty data frame to hold this data.  I will want to store the firing rate over the length of the track in each row of the data frame, so each row needs a cell ID associated with it.  Extract all the unique cell_ids in this dataset by applying the `.unique()` method to the `cell_ids` column of the `spikes` dataframe.  "
      ]
    },
    {
      "metadata": {
        "id": "6CDnzS5CC9H-",
        "colab_type": "code",
        "colab": {}
      },
      "cell_type": "code",
      "source": [
        "cell_ids = spikes['cell_ids'].unique()\n",
        "spike_rates = pd.DataFrame(index=cell_ids, columns=bin_centers)\n",
        "spike_rates.index.name= 'Cell ID'\n",
        "spike_rates.columns.name = 'Location on Track (m)'"
      ],
      "execution_count": 0,
      "outputs": []
    },
    {
      "metadata": {
        "id": "yTlHAgd8C9IC",
        "colab_type": "text"
      },
      "cell_type": "markdown",
      "source": [
        "### (b)\n",
        "#### Now the fun part. I prepared a `for` loop, which will go through each of the cells (by id number) and then fill in the `spike_rates` data frame in the appropriate row.  The first line in that for loop requires you to get the subset of the `spikes` data that corresponds to only the current `cell_id`, using a selector.  In the second line you compute the histogram, so you get spike counts as a function of track location for one cell at a time.  In the third line you apply smoothing to stabilize the data.  In the fourth line you turn counts and durations into rates.  Finally, in the fifth line you fill the empty dataframe that we created above with the rate data that you computed for that cell.  "
      ]
    },
    {
      "metadata": {
        "id": "_jHpgfoSC9IE",
        "colab_type": "code",
        "outputId": "87cb01c9-6e3a-4c97-8238-89147422709f",
        "colab": {
          "base_uri": "https://localhost:8080/",
          "height": 2054
        }
      },
      "cell_type": "code",
      "source": [
        "for cell_id in cell_ids:\n",
        "    # 1\n",
        "    is_it_this_cell_id = (spikes['cell_ids'] == cell_id)\n",
        "    cell_spikes = spikes[is_it_this_cell_id]\n",
        "    # 2\n",
        "    spike_counts_at_each_location, bin_edges = np.histogram(cell_ids, bins=64)\n",
        "    spike_counts_at_each_location = spike_counts_at_each_location.astype('float') # Make these values decimals for safety\n",
        "    # 3\n",
        "    spike_counts_at_each_location = gaussian_filter(durations_at_each_location, smoothing_width)\n",
        "    # 4\n",
        "    spike_rates_at_each_location = spike_counts_at_each_location / durations_at_each_location\n",
        "    # 5\n",
        "    spike_rates.loc[cell_id, :] = spike_rates_at_each_location\n",
        "spike_rates"
      ],
      "execution_count": 0,
      "outputs": [
        {
          "output_type": "execute_result",
          "data": {
            "text/html": [
              "<div>\n",
              "<style scoped>\n",
              "    .dataframe tbody tr th:only-of-type {\n",
              "        vertical-align: middle;\n",
              "    }\n",
              "\n",
              "    .dataframe tbody tr th {\n",
              "        vertical-align: top;\n",
              "    }\n",
              "\n",
              "    .dataframe thead th {\n",
              "        text-align: right;\n",
              "    }\n",
              "</style>\n",
              "<table border=\"1\" class=\"dataframe\">\n",
              "  <thead>\n",
              "    <tr style=\"text-align: right;\">\n",
              "      <th>Location on Track (m)</th>\n",
              "      <th>0.209</th>\n",
              "      <th>0.228</th>\n",
              "      <th>0.247</th>\n",
              "      <th>0.266</th>\n",
              "      <th>0.284</th>\n",
              "      <th>0.303</th>\n",
              "      <th>0.322</th>\n",
              "      <th>0.341</th>\n",
              "      <th>0.359</th>\n",
              "      <th>0.378</th>\n",
              "      <th>...</th>\n",
              "      <th>1.222</th>\n",
              "      <th>1.241</th>\n",
              "      <th>1.259</th>\n",
              "      <th>1.278</th>\n",
              "      <th>1.297</th>\n",
              "      <th>1.316</th>\n",
              "      <th>1.334</th>\n",
              "      <th>1.353</th>\n",
              "      <th>1.372</th>\n",
              "      <th>1.391</th>\n",
              "    </tr>\n",
              "    <tr>\n",
              "      <th>Cell ID</th>\n",
              "      <th></th>\n",
              "      <th></th>\n",
              "      <th></th>\n",
              "      <th></th>\n",
              "      <th></th>\n",
              "      <th></th>\n",
              "      <th></th>\n",
              "      <th></th>\n",
              "      <th></th>\n",
              "      <th></th>\n",
              "      <th></th>\n",
              "      <th></th>\n",
              "      <th></th>\n",
              "      <th></th>\n",
              "      <th></th>\n",
              "      <th></th>\n",
              "      <th></th>\n",
              "      <th></th>\n",
              "      <th></th>\n",
              "      <th></th>\n",
              "      <th></th>\n",
              "    </tr>\n",
              "  </thead>\n",
              "  <tbody>\n",
              "    <tr>\n",
              "      <th>609</th>\n",
              "      <td>0.965379</td>\n",
              "      <td>0.96754</td>\n",
              "      <td>0.972162</td>\n",
              "      <td>0.979639</td>\n",
              "      <td>0.990105</td>\n",
              "      <td>1.00305</td>\n",
              "      <td>1.01703</td>\n",
              "      <td>1.02966</td>\n",
              "      <td>1.03803</td>\n",
              "      <td>1.03973</td>\n",
              "      <td>...</td>\n",
              "      <td>1.00083</td>\n",
              "      <td>1.0004</td>\n",
              "      <td>0.998941</td>\n",
              "      <td>0.996212</td>\n",
              "      <td>0.993109</td>\n",
              "      <td>0.991313</td>\n",
              "      <td>0.992192</td>\n",
              "      <td>0.995753</td>\n",
              "      <td>1.00036</td>\n",
              "      <td>1.00358</td>\n",
              "    </tr>\n",
              "    <tr>\n",
              "      <th>529</th>\n",
              "      <td>0.965379</td>\n",
              "      <td>0.96754</td>\n",
              "      <td>0.972162</td>\n",
              "      <td>0.979639</td>\n",
              "      <td>0.990105</td>\n",
              "      <td>1.00305</td>\n",
              "      <td>1.01703</td>\n",
              "      <td>1.02966</td>\n",
              "      <td>1.03803</td>\n",
              "      <td>1.03973</td>\n",
              "      <td>...</td>\n",
              "      <td>1.00083</td>\n",
              "      <td>1.0004</td>\n",
              "      <td>0.998941</td>\n",
              "      <td>0.996212</td>\n",
              "      <td>0.993109</td>\n",
              "      <td>0.991313</td>\n",
              "      <td>0.992192</td>\n",
              "      <td>0.995753</td>\n",
              "      <td>1.00036</td>\n",
              "      <td>1.00358</td>\n",
              "    </tr>\n",
              "    <tr>\n",
              "      <th>1209</th>\n",
              "      <td>0.965379</td>\n",
              "      <td>0.96754</td>\n",
              "      <td>0.972162</td>\n",
              "      <td>0.979639</td>\n",
              "      <td>0.990105</td>\n",
              "      <td>1.00305</td>\n",
              "      <td>1.01703</td>\n",
              "      <td>1.02966</td>\n",
              "      <td>1.03803</td>\n",
              "      <td>1.03973</td>\n",
              "      <td>...</td>\n",
              "      <td>1.00083</td>\n",
              "      <td>1.0004</td>\n",
              "      <td>0.998941</td>\n",
              "      <td>0.996212</td>\n",
              "      <td>0.993109</td>\n",
              "      <td>0.991313</td>\n",
              "      <td>0.992192</td>\n",
              "      <td>0.995753</td>\n",
              "      <td>1.00036</td>\n",
              "      <td>1.00358</td>\n",
              "    </tr>\n",
              "    <tr>\n",
              "      <th>416</th>\n",
              "      <td>0.965379</td>\n",
              "      <td>0.96754</td>\n",
              "      <td>0.972162</td>\n",
              "      <td>0.979639</td>\n",
              "      <td>0.990105</td>\n",
              "      <td>1.00305</td>\n",
              "      <td>1.01703</td>\n",
              "      <td>1.02966</td>\n",
              "      <td>1.03803</td>\n",
              "      <td>1.03973</td>\n",
              "      <td>...</td>\n",
              "      <td>1.00083</td>\n",
              "      <td>1.0004</td>\n",
              "      <td>0.998941</td>\n",
              "      <td>0.996212</td>\n",
              "      <td>0.993109</td>\n",
              "      <td>0.991313</td>\n",
              "      <td>0.992192</td>\n",
              "      <td>0.995753</td>\n",
              "      <td>1.00036</td>\n",
              "      <td>1.00358</td>\n",
              "    </tr>\n",
              "    <tr>\n",
              "      <th>828</th>\n",
              "      <td>0.965379</td>\n",
              "      <td>0.96754</td>\n",
              "      <td>0.972162</td>\n",
              "      <td>0.979639</td>\n",
              "      <td>0.990105</td>\n",
              "      <td>1.00305</td>\n",
              "      <td>1.01703</td>\n",
              "      <td>1.02966</td>\n",
              "      <td>1.03803</td>\n",
              "      <td>1.03973</td>\n",
              "      <td>...</td>\n",
              "      <td>1.00083</td>\n",
              "      <td>1.0004</td>\n",
              "      <td>0.998941</td>\n",
              "      <td>0.996212</td>\n",
              "      <td>0.993109</td>\n",
              "      <td>0.991313</td>\n",
              "      <td>0.992192</td>\n",
              "      <td>0.995753</td>\n",
              "      <td>1.00036</td>\n",
              "      <td>1.00358</td>\n",
              "    </tr>\n",
              "    <tr>\n",
              "      <th>119</th>\n",
              "      <td>0.965379</td>\n",
              "      <td>0.96754</td>\n",
              "      <td>0.972162</td>\n",
              "      <td>0.979639</td>\n",
              "      <td>0.990105</td>\n",
              "      <td>1.00305</td>\n",
              "      <td>1.01703</td>\n",
              "      <td>1.02966</td>\n",
              "      <td>1.03803</td>\n",
              "      <td>1.03973</td>\n",
              "      <td>...</td>\n",
              "      <td>1.00083</td>\n",
              "      <td>1.0004</td>\n",
              "      <td>0.998941</td>\n",
              "      <td>0.996212</td>\n",
              "      <td>0.993109</td>\n",
              "      <td>0.991313</td>\n",
              "      <td>0.992192</td>\n",
              "      <td>0.995753</td>\n",
              "      <td>1.00036</td>\n",
              "      <td>1.00358</td>\n",
              "    </tr>\n",
              "    <tr>\n",
              "      <th>410</th>\n",
              "      <td>0.965379</td>\n",
              "      <td>0.96754</td>\n",
              "      <td>0.972162</td>\n",
              "      <td>0.979639</td>\n",
              "      <td>0.990105</td>\n",
              "      <td>1.00305</td>\n",
              "      <td>1.01703</td>\n",
              "      <td>1.02966</td>\n",
              "      <td>1.03803</td>\n",
              "      <td>1.03973</td>\n",
              "      <td>...</td>\n",
              "      <td>1.00083</td>\n",
              "      <td>1.0004</td>\n",
              "      <td>0.998941</td>\n",
              "      <td>0.996212</td>\n",
              "      <td>0.993109</td>\n",
              "      <td>0.991313</td>\n",
              "      <td>0.992192</td>\n",
              "      <td>0.995753</td>\n",
              "      <td>1.00036</td>\n",
              "      <td>1.00358</td>\n",
              "    </tr>\n",
              "    <tr>\n",
              "      <th>537</th>\n",
              "      <td>0.965379</td>\n",
              "      <td>0.96754</td>\n",
              "      <td>0.972162</td>\n",
              "      <td>0.979639</td>\n",
              "      <td>0.990105</td>\n",
              "      <td>1.00305</td>\n",
              "      <td>1.01703</td>\n",
              "      <td>1.02966</td>\n",
              "      <td>1.03803</td>\n",
              "      <td>1.03973</td>\n",
              "      <td>...</td>\n",
              "      <td>1.00083</td>\n",
              "      <td>1.0004</td>\n",
              "      <td>0.998941</td>\n",
              "      <td>0.996212</td>\n",
              "      <td>0.993109</td>\n",
              "      <td>0.991313</td>\n",
              "      <td>0.992192</td>\n",
              "      <td>0.995753</td>\n",
              "      <td>1.00036</td>\n",
              "      <td>1.00358</td>\n",
              "    </tr>\n",
              "    <tr>\n",
              "      <th>615</th>\n",
              "      <td>0.965379</td>\n",
              "      <td>0.96754</td>\n",
              "      <td>0.972162</td>\n",
              "      <td>0.979639</td>\n",
              "      <td>0.990105</td>\n",
              "      <td>1.00305</td>\n",
              "      <td>1.01703</td>\n",
              "      <td>1.02966</td>\n",
              "      <td>1.03803</td>\n",
              "      <td>1.03973</td>\n",
              "      <td>...</td>\n",
              "      <td>1.00083</td>\n",
              "      <td>1.0004</td>\n",
              "      <td>0.998941</td>\n",
              "      <td>0.996212</td>\n",
              "      <td>0.993109</td>\n",
              "      <td>0.991313</td>\n",
              "      <td>0.992192</td>\n",
              "      <td>0.995753</td>\n",
              "      <td>1.00036</td>\n",
              "      <td>1.00358</td>\n",
              "    </tr>\n",
              "    <tr>\n",
              "      <th>819</th>\n",
              "      <td>0.965379</td>\n",
              "      <td>0.96754</td>\n",
              "      <td>0.972162</td>\n",
              "      <td>0.979639</td>\n",
              "      <td>0.990105</td>\n",
              "      <td>1.00305</td>\n",
              "      <td>1.01703</td>\n",
              "      <td>1.02966</td>\n",
              "      <td>1.03803</td>\n",
              "      <td>1.03973</td>\n",
              "      <td>...</td>\n",
              "      <td>1.00083</td>\n",
              "      <td>1.0004</td>\n",
              "      <td>0.998941</td>\n",
              "      <td>0.996212</td>\n",
              "      <td>0.993109</td>\n",
              "      <td>0.991313</td>\n",
              "      <td>0.992192</td>\n",
              "      <td>0.995753</td>\n",
              "      <td>1.00036</td>\n",
              "      <td>1.00358</td>\n",
              "    </tr>\n",
              "    <tr>\n",
              "      <th>305</th>\n",
              "      <td>0.965379</td>\n",
              "      <td>0.96754</td>\n",
              "      <td>0.972162</td>\n",
              "      <td>0.979639</td>\n",
              "      <td>0.990105</td>\n",
              "      <td>1.00305</td>\n",
              "      <td>1.01703</td>\n",
              "      <td>1.02966</td>\n",
              "      <td>1.03803</td>\n",
              "      <td>1.03973</td>\n",
              "      <td>...</td>\n",
              "      <td>1.00083</td>\n",
              "      <td>1.0004</td>\n",
              "      <td>0.998941</td>\n",
              "      <td>0.996212</td>\n",
              "      <td>0.993109</td>\n",
              "      <td>0.991313</td>\n",
              "      <td>0.992192</td>\n",
              "      <td>0.995753</td>\n",
              "      <td>1.00036</td>\n",
              "      <td>1.00358</td>\n",
              "    </tr>\n",
              "    <tr>\n",
              "      <th>930</th>\n",
              "      <td>0.965379</td>\n",
              "      <td>0.96754</td>\n",
              "      <td>0.972162</td>\n",
              "      <td>0.979639</td>\n",
              "      <td>0.990105</td>\n",
              "      <td>1.00305</td>\n",
              "      <td>1.01703</td>\n",
              "      <td>1.02966</td>\n",
              "      <td>1.03803</td>\n",
              "      <td>1.03973</td>\n",
              "      <td>...</td>\n",
              "      <td>1.00083</td>\n",
              "      <td>1.0004</td>\n",
              "      <td>0.998941</td>\n",
              "      <td>0.996212</td>\n",
              "      <td>0.993109</td>\n",
              "      <td>0.991313</td>\n",
              "      <td>0.992192</td>\n",
              "      <td>0.995753</td>\n",
              "      <td>1.00036</td>\n",
              "      <td>1.00358</td>\n",
              "    </tr>\n",
              "    <tr>\n",
              "      <th>103</th>\n",
              "      <td>0.965379</td>\n",
              "      <td>0.96754</td>\n",
              "      <td>0.972162</td>\n",
              "      <td>0.979639</td>\n",
              "      <td>0.990105</td>\n",
              "      <td>1.00305</td>\n",
              "      <td>1.01703</td>\n",
              "      <td>1.02966</td>\n",
              "      <td>1.03803</td>\n",
              "      <td>1.03973</td>\n",
              "      <td>...</td>\n",
              "      <td>1.00083</td>\n",
              "      <td>1.0004</td>\n",
              "      <td>0.998941</td>\n",
              "      <td>0.996212</td>\n",
              "      <td>0.993109</td>\n",
              "      <td>0.991313</td>\n",
              "      <td>0.992192</td>\n",
              "      <td>0.995753</td>\n",
              "      <td>1.00036</td>\n",
              "      <td>1.00358</td>\n",
              "    </tr>\n",
              "    <tr>\n",
              "      <th>1303</th>\n",
              "      <td>0.965379</td>\n",
              "      <td>0.96754</td>\n",
              "      <td>0.972162</td>\n",
              "      <td>0.979639</td>\n",
              "      <td>0.990105</td>\n",
              "      <td>1.00305</td>\n",
              "      <td>1.01703</td>\n",
              "      <td>1.02966</td>\n",
              "      <td>1.03803</td>\n",
              "      <td>1.03973</td>\n",
              "      <td>...</td>\n",
              "      <td>1.00083</td>\n",
              "      <td>1.0004</td>\n",
              "      <td>0.998941</td>\n",
              "      <td>0.996212</td>\n",
              "      <td>0.993109</td>\n",
              "      <td>0.991313</td>\n",
              "      <td>0.992192</td>\n",
              "      <td>0.995753</td>\n",
              "      <td>1.00036</td>\n",
              "      <td>1.00358</td>\n",
              "    </tr>\n",
              "    <tr>\n",
              "      <th>532</th>\n",
              "      <td>0.965379</td>\n",
              "      <td>0.96754</td>\n",
              "      <td>0.972162</td>\n",
              "      <td>0.979639</td>\n",
              "      <td>0.990105</td>\n",
              "      <td>1.00305</td>\n",
              "      <td>1.01703</td>\n",
              "      <td>1.02966</td>\n",
              "      <td>1.03803</td>\n",
              "      <td>1.03973</td>\n",
              "      <td>...</td>\n",
              "      <td>1.00083</td>\n",
              "      <td>1.0004</td>\n",
              "      <td>0.998941</td>\n",
              "      <td>0.996212</td>\n",
              "      <td>0.993109</td>\n",
              "      <td>0.991313</td>\n",
              "      <td>0.992192</td>\n",
              "      <td>0.995753</td>\n",
              "      <td>1.00036</td>\n",
              "      <td>1.00358</td>\n",
              "    </tr>\n",
              "    <tr>\n",
              "      <th>121</th>\n",
              "      <td>0.965379</td>\n",
              "      <td>0.96754</td>\n",
              "      <td>0.972162</td>\n",
              "      <td>0.979639</td>\n",
              "      <td>0.990105</td>\n",
              "      <td>1.00305</td>\n",
              "      <td>1.01703</td>\n",
              "      <td>1.02966</td>\n",
              "      <td>1.03803</td>\n",
              "      <td>1.03973</td>\n",
              "      <td>...</td>\n",
              "      <td>1.00083</td>\n",
              "      <td>1.0004</td>\n",
              "      <td>0.998941</td>\n",
              "      <td>0.996212</td>\n",
              "      <td>0.993109</td>\n",
              "      <td>0.991313</td>\n",
              "      <td>0.992192</td>\n",
              "      <td>0.995753</td>\n",
              "      <td>1.00036</td>\n",
              "      <td>1.00358</td>\n",
              "    </tr>\n",
              "    <tr>\n",
              "      <th>403</th>\n",
              "      <td>0.965379</td>\n",
              "      <td>0.96754</td>\n",
              "      <td>0.972162</td>\n",
              "      <td>0.979639</td>\n",
              "      <td>0.990105</td>\n",
              "      <td>1.00305</td>\n",
              "      <td>1.01703</td>\n",
              "      <td>1.02966</td>\n",
              "      <td>1.03803</td>\n",
              "      <td>1.03973</td>\n",
              "      <td>...</td>\n",
              "      <td>1.00083</td>\n",
              "      <td>1.0004</td>\n",
              "      <td>0.998941</td>\n",
              "      <td>0.996212</td>\n",
              "      <td>0.993109</td>\n",
              "      <td>0.991313</td>\n",
              "      <td>0.992192</td>\n",
              "      <td>0.995753</td>\n",
              "      <td>1.00036</td>\n",
              "      <td>1.00358</td>\n",
              "    </tr>\n",
              "    <tr>\n",
              "      <th>927</th>\n",
              "      <td>0.965379</td>\n",
              "      <td>0.96754</td>\n",
              "      <td>0.972162</td>\n",
              "      <td>0.979639</td>\n",
              "      <td>0.990105</td>\n",
              "      <td>1.00305</td>\n",
              "      <td>1.01703</td>\n",
              "      <td>1.02966</td>\n",
              "      <td>1.03803</td>\n",
              "      <td>1.03973</td>\n",
              "      <td>...</td>\n",
              "      <td>1.00083</td>\n",
              "      <td>1.0004</td>\n",
              "      <td>0.998941</td>\n",
              "      <td>0.996212</td>\n",
              "      <td>0.993109</td>\n",
              "      <td>0.991313</td>\n",
              "      <td>0.992192</td>\n",
              "      <td>0.995753</td>\n",
              "      <td>1.00036</td>\n",
              "      <td>1.00358</td>\n",
              "    </tr>\n",
              "    <tr>\n",
              "      <th>417</th>\n",
              "      <td>0.965379</td>\n",
              "      <td>0.96754</td>\n",
              "      <td>0.972162</td>\n",
              "      <td>0.979639</td>\n",
              "      <td>0.990105</td>\n",
              "      <td>1.00305</td>\n",
              "      <td>1.01703</td>\n",
              "      <td>1.02966</td>\n",
              "      <td>1.03803</td>\n",
              "      <td>1.03973</td>\n",
              "      <td>...</td>\n",
              "      <td>1.00083</td>\n",
              "      <td>1.0004</td>\n",
              "      <td>0.998941</td>\n",
              "      <td>0.996212</td>\n",
              "      <td>0.993109</td>\n",
              "      <td>0.991313</td>\n",
              "      <td>0.992192</td>\n",
              "      <td>0.995753</td>\n",
              "      <td>1.00036</td>\n",
              "      <td>1.00358</td>\n",
              "    </tr>\n",
              "    <tr>\n",
              "      <th>920</th>\n",
              "      <td>0.965379</td>\n",
              "      <td>0.96754</td>\n",
              "      <td>0.972162</td>\n",
              "      <td>0.979639</td>\n",
              "      <td>0.990105</td>\n",
              "      <td>1.00305</td>\n",
              "      <td>1.01703</td>\n",
              "      <td>1.02966</td>\n",
              "      <td>1.03803</td>\n",
              "      <td>1.03973</td>\n",
              "      <td>...</td>\n",
              "      <td>1.00083</td>\n",
              "      <td>1.0004</td>\n",
              "      <td>0.998941</td>\n",
              "      <td>0.996212</td>\n",
              "      <td>0.993109</td>\n",
              "      <td>0.991313</td>\n",
              "      <td>0.992192</td>\n",
              "      <td>0.995753</td>\n",
              "      <td>1.00036</td>\n",
              "      <td>1.00358</td>\n",
              "    </tr>\n",
              "    <tr>\n",
              "      <th>422</th>\n",
              "      <td>0.965379</td>\n",
              "      <td>0.96754</td>\n",
              "      <td>0.972162</td>\n",
              "      <td>0.979639</td>\n",
              "      <td>0.990105</td>\n",
              "      <td>1.00305</td>\n",
              "      <td>1.01703</td>\n",
              "      <td>1.02966</td>\n",
              "      <td>1.03803</td>\n",
              "      <td>1.03973</td>\n",
              "      <td>...</td>\n",
              "      <td>1.00083</td>\n",
              "      <td>1.0004</td>\n",
              "      <td>0.998941</td>\n",
              "      <td>0.996212</td>\n",
              "      <td>0.993109</td>\n",
              "      <td>0.991313</td>\n",
              "      <td>0.992192</td>\n",
              "      <td>0.995753</td>\n",
              "      <td>1.00036</td>\n",
              "      <td>1.00358</td>\n",
              "    </tr>\n",
              "    <tr>\n",
              "      <th>1305</th>\n",
              "      <td>0.965379</td>\n",
              "      <td>0.96754</td>\n",
              "      <td>0.972162</td>\n",
              "      <td>0.979639</td>\n",
              "      <td>0.990105</td>\n",
              "      <td>1.00305</td>\n",
              "      <td>1.01703</td>\n",
              "      <td>1.02966</td>\n",
              "      <td>1.03803</td>\n",
              "      <td>1.03973</td>\n",
              "      <td>...</td>\n",
              "      <td>1.00083</td>\n",
              "      <td>1.0004</td>\n",
              "      <td>0.998941</td>\n",
              "      <td>0.996212</td>\n",
              "      <td>0.993109</td>\n",
              "      <td>0.991313</td>\n",
              "      <td>0.992192</td>\n",
              "      <td>0.995753</td>\n",
              "      <td>1.00036</td>\n",
              "      <td>1.00358</td>\n",
              "    </tr>\n",
              "    <tr>\n",
              "      <th>822</th>\n",
              "      <td>0.965379</td>\n",
              "      <td>0.96754</td>\n",
              "      <td>0.972162</td>\n",
              "      <td>0.979639</td>\n",
              "      <td>0.990105</td>\n",
              "      <td>1.00305</td>\n",
              "      <td>1.01703</td>\n",
              "      <td>1.02966</td>\n",
              "      <td>1.03803</td>\n",
              "      <td>1.03973</td>\n",
              "      <td>...</td>\n",
              "      <td>1.00083</td>\n",
              "      <td>1.0004</td>\n",
              "      <td>0.998941</td>\n",
              "      <td>0.996212</td>\n",
              "      <td>0.993109</td>\n",
              "      <td>0.991313</td>\n",
              "      <td>0.992192</td>\n",
              "      <td>0.995753</td>\n",
              "      <td>1.00036</td>\n",
              "      <td>1.00358</td>\n",
              "    </tr>\n",
              "    <tr>\n",
              "      <th>1306</th>\n",
              "      <td>0.965379</td>\n",
              "      <td>0.96754</td>\n",
              "      <td>0.972162</td>\n",
              "      <td>0.979639</td>\n",
              "      <td>0.990105</td>\n",
              "      <td>1.00305</td>\n",
              "      <td>1.01703</td>\n",
              "      <td>1.02966</td>\n",
              "      <td>1.03803</td>\n",
              "      <td>1.03973</td>\n",
              "      <td>...</td>\n",
              "      <td>1.00083</td>\n",
              "      <td>1.0004</td>\n",
              "      <td>0.998941</td>\n",
              "      <td>0.996212</td>\n",
              "      <td>0.993109</td>\n",
              "      <td>0.991313</td>\n",
              "      <td>0.992192</td>\n",
              "      <td>0.995753</td>\n",
              "      <td>1.00036</td>\n",
              "      <td>1.00358</td>\n",
              "    </tr>\n",
              "    <tr>\n",
              "      <th>931</th>\n",
              "      <td>0.965379</td>\n",
              "      <td>0.96754</td>\n",
              "      <td>0.972162</td>\n",
              "      <td>0.979639</td>\n",
              "      <td>0.990105</td>\n",
              "      <td>1.00305</td>\n",
              "      <td>1.01703</td>\n",
              "      <td>1.02966</td>\n",
              "      <td>1.03803</td>\n",
              "      <td>1.03973</td>\n",
              "      <td>...</td>\n",
              "      <td>1.00083</td>\n",
              "      <td>1.0004</td>\n",
              "      <td>0.998941</td>\n",
              "      <td>0.996212</td>\n",
              "      <td>0.993109</td>\n",
              "      <td>0.991313</td>\n",
              "      <td>0.992192</td>\n",
              "      <td>0.995753</td>\n",
              "      <td>1.00036</td>\n",
              "      <td>1.00358</td>\n",
              "    </tr>\n",
              "    <tr>\n",
              "      <th>818</th>\n",
              "      <td>0.965379</td>\n",
              "      <td>0.96754</td>\n",
              "      <td>0.972162</td>\n",
              "      <td>0.979639</td>\n",
              "      <td>0.990105</td>\n",
              "      <td>1.00305</td>\n",
              "      <td>1.01703</td>\n",
              "      <td>1.02966</td>\n",
              "      <td>1.03803</td>\n",
              "      <td>1.03973</td>\n",
              "      <td>...</td>\n",
              "      <td>1.00083</td>\n",
              "      <td>1.0004</td>\n",
              "      <td>0.998941</td>\n",
              "      <td>0.996212</td>\n",
              "      <td>0.993109</td>\n",
              "      <td>0.991313</td>\n",
              "      <td>0.992192</td>\n",
              "      <td>0.995753</td>\n",
              "      <td>1.00036</td>\n",
              "      <td>1.00358</td>\n",
              "    </tr>\n",
              "    <tr>\n",
              "      <th>928</th>\n",
              "      <td>0.965379</td>\n",
              "      <td>0.96754</td>\n",
              "      <td>0.972162</td>\n",
              "      <td>0.979639</td>\n",
              "      <td>0.990105</td>\n",
              "      <td>1.00305</td>\n",
              "      <td>1.01703</td>\n",
              "      <td>1.02966</td>\n",
              "      <td>1.03803</td>\n",
              "      <td>1.03973</td>\n",
              "      <td>...</td>\n",
              "      <td>1.00083</td>\n",
              "      <td>1.0004</td>\n",
              "      <td>0.998941</td>\n",
              "      <td>0.996212</td>\n",
              "      <td>0.993109</td>\n",
              "      <td>0.991313</td>\n",
              "      <td>0.992192</td>\n",
              "      <td>0.995753</td>\n",
              "      <td>1.00036</td>\n",
              "      <td>1.00358</td>\n",
              "    </tr>\n",
              "    <tr>\n",
              "      <th>411</th>\n",
              "      <td>0.965379</td>\n",
              "      <td>0.96754</td>\n",
              "      <td>0.972162</td>\n",
              "      <td>0.979639</td>\n",
              "      <td>0.990105</td>\n",
              "      <td>1.00305</td>\n",
              "      <td>1.01703</td>\n",
              "      <td>1.02966</td>\n",
              "      <td>1.03803</td>\n",
              "      <td>1.03973</td>\n",
              "      <td>...</td>\n",
              "      <td>1.00083</td>\n",
              "      <td>1.0004</td>\n",
              "      <td>0.998941</td>\n",
              "      <td>0.996212</td>\n",
              "      <td>0.993109</td>\n",
              "      <td>0.991313</td>\n",
              "      <td>0.992192</td>\n",
              "      <td>0.995753</td>\n",
              "      <td>1.00036</td>\n",
              "      <td>1.00358</td>\n",
              "    </tr>\n",
              "    <tr>\n",
              "      <th>1314</th>\n",
              "      <td>0.965379</td>\n",
              "      <td>0.96754</td>\n",
              "      <td>0.972162</td>\n",
              "      <td>0.979639</td>\n",
              "      <td>0.990105</td>\n",
              "      <td>1.00305</td>\n",
              "      <td>1.01703</td>\n",
              "      <td>1.02966</td>\n",
              "      <td>1.03803</td>\n",
              "      <td>1.03973</td>\n",
              "      <td>...</td>\n",
              "      <td>1.00083</td>\n",
              "      <td>1.0004</td>\n",
              "      <td>0.998941</td>\n",
              "      <td>0.996212</td>\n",
              "      <td>0.993109</td>\n",
              "      <td>0.991313</td>\n",
              "      <td>0.992192</td>\n",
              "      <td>0.995753</td>\n",
              "      <td>1.00036</td>\n",
              "      <td>1.00358</td>\n",
              "    </tr>\n",
              "    <tr>\n",
              "      <th>1022</th>\n",
              "      <td>0.965379</td>\n",
              "      <td>0.96754</td>\n",
              "      <td>0.972162</td>\n",
              "      <td>0.979639</td>\n",
              "      <td>0.990105</td>\n",
              "      <td>1.00305</td>\n",
              "      <td>1.01703</td>\n",
              "      <td>1.02966</td>\n",
              "      <td>1.03803</td>\n",
              "      <td>1.03973</td>\n",
              "      <td>...</td>\n",
              "      <td>1.00083</td>\n",
              "      <td>1.0004</td>\n",
              "      <td>0.998941</td>\n",
              "      <td>0.996212</td>\n",
              "      <td>0.993109</td>\n",
              "      <td>0.991313</td>\n",
              "      <td>0.992192</td>\n",
              "      <td>0.995753</td>\n",
              "      <td>1.00036</td>\n",
              "      <td>1.00358</td>\n",
              "    </tr>\n",
              "    <tr>\n",
              "      <th>...</th>\n",
              "      <td>...</td>\n",
              "      <td>...</td>\n",
              "      <td>...</td>\n",
              "      <td>...</td>\n",
              "      <td>...</td>\n",
              "      <td>...</td>\n",
              "      <td>...</td>\n",
              "      <td>...</td>\n",
              "      <td>...</td>\n",
              "      <td>...</td>\n",
              "      <td>...</td>\n",
              "      <td>...</td>\n",
              "      <td>...</td>\n",
              "      <td>...</td>\n",
              "      <td>...</td>\n",
              "      <td>...</td>\n",
              "      <td>...</td>\n",
              "      <td>...</td>\n",
              "      <td>...</td>\n",
              "      <td>...</td>\n",
              "      <td>...</td>\n",
              "    </tr>\n",
              "    <tr>\n",
              "      <th>420</th>\n",
              "      <td>0.965379</td>\n",
              "      <td>0.96754</td>\n",
              "      <td>0.972162</td>\n",
              "      <td>0.979639</td>\n",
              "      <td>0.990105</td>\n",
              "      <td>1.00305</td>\n",
              "      <td>1.01703</td>\n",
              "      <td>1.02966</td>\n",
              "      <td>1.03803</td>\n",
              "      <td>1.03973</td>\n",
              "      <td>...</td>\n",
              "      <td>1.00083</td>\n",
              "      <td>1.0004</td>\n",
              "      <td>0.998941</td>\n",
              "      <td>0.996212</td>\n",
              "      <td>0.993109</td>\n",
              "      <td>0.991313</td>\n",
              "      <td>0.992192</td>\n",
              "      <td>0.995753</td>\n",
              "      <td>1.00036</td>\n",
              "      <td>1.00358</td>\n",
              "    </tr>\n",
              "    <tr>\n",
              "      <th>1113</th>\n",
              "      <td>0.965379</td>\n",
              "      <td>0.96754</td>\n",
              "      <td>0.972162</td>\n",
              "      <td>0.979639</td>\n",
              "      <td>0.990105</td>\n",
              "      <td>1.00305</td>\n",
              "      <td>1.01703</td>\n",
              "      <td>1.02966</td>\n",
              "      <td>1.03803</td>\n",
              "      <td>1.03973</td>\n",
              "      <td>...</td>\n",
              "      <td>1.00083</td>\n",
              "      <td>1.0004</td>\n",
              "      <td>0.998941</td>\n",
              "      <td>0.996212</td>\n",
              "      <td>0.993109</td>\n",
              "      <td>0.991313</td>\n",
              "      <td>0.992192</td>\n",
              "      <td>0.995753</td>\n",
              "      <td>1.00036</td>\n",
              "      <td>1.00358</td>\n",
              "    </tr>\n",
              "    <tr>\n",
              "      <th>803</th>\n",
              "      <td>0.965379</td>\n",
              "      <td>0.96754</td>\n",
              "      <td>0.972162</td>\n",
              "      <td>0.979639</td>\n",
              "      <td>0.990105</td>\n",
              "      <td>1.00305</td>\n",
              "      <td>1.01703</td>\n",
              "      <td>1.02966</td>\n",
              "      <td>1.03803</td>\n",
              "      <td>1.03973</td>\n",
              "      <td>...</td>\n",
              "      <td>1.00083</td>\n",
              "      <td>1.0004</td>\n",
              "      <td>0.998941</td>\n",
              "      <td>0.996212</td>\n",
              "      <td>0.993109</td>\n",
              "      <td>0.991313</td>\n",
              "      <td>0.992192</td>\n",
              "      <td>0.995753</td>\n",
              "      <td>1.00036</td>\n",
              "      <td>1.00358</td>\n",
              "    </tr>\n",
              "    <tr>\n",
              "      <th>913</th>\n",
              "      <td>0.965379</td>\n",
              "      <td>0.96754</td>\n",
              "      <td>0.972162</td>\n",
              "      <td>0.979639</td>\n",
              "      <td>0.990105</td>\n",
              "      <td>1.00305</td>\n",
              "      <td>1.01703</td>\n",
              "      <td>1.02966</td>\n",
              "      <td>1.03803</td>\n",
              "      <td>1.03973</td>\n",
              "      <td>...</td>\n",
              "      <td>1.00083</td>\n",
              "      <td>1.0004</td>\n",
              "      <td>0.998941</td>\n",
              "      <td>0.996212</td>\n",
              "      <td>0.993109</td>\n",
              "      <td>0.991313</td>\n",
              "      <td>0.992192</td>\n",
              "      <td>0.995753</td>\n",
              "      <td>1.00036</td>\n",
              "      <td>1.00358</td>\n",
              "    </tr>\n",
              "    <tr>\n",
              "      <th>1319</th>\n",
              "      <td>0.965379</td>\n",
              "      <td>0.96754</td>\n",
              "      <td>0.972162</td>\n",
              "      <td>0.979639</td>\n",
              "      <td>0.990105</td>\n",
              "      <td>1.00305</td>\n",
              "      <td>1.01703</td>\n",
              "      <td>1.02966</td>\n",
              "      <td>1.03803</td>\n",
              "      <td>1.03973</td>\n",
              "      <td>...</td>\n",
              "      <td>1.00083</td>\n",
              "      <td>1.0004</td>\n",
              "      <td>0.998941</td>\n",
              "      <td>0.996212</td>\n",
              "      <td>0.993109</td>\n",
              "      <td>0.991313</td>\n",
              "      <td>0.992192</td>\n",
              "      <td>0.995753</td>\n",
              "      <td>1.00036</td>\n",
              "      <td>1.00358</td>\n",
              "    </tr>\n",
              "    <tr>\n",
              "      <th>1019</th>\n",
              "      <td>0.965379</td>\n",
              "      <td>0.96754</td>\n",
              "      <td>0.972162</td>\n",
              "      <td>0.979639</td>\n",
              "      <td>0.990105</td>\n",
              "      <td>1.00305</td>\n",
              "      <td>1.01703</td>\n",
              "      <td>1.02966</td>\n",
              "      <td>1.03803</td>\n",
              "      <td>1.03973</td>\n",
              "      <td>...</td>\n",
              "      <td>1.00083</td>\n",
              "      <td>1.0004</td>\n",
              "      <td>0.998941</td>\n",
              "      <td>0.996212</td>\n",
              "      <td>0.993109</td>\n",
              "      <td>0.991313</td>\n",
              "      <td>0.992192</td>\n",
              "      <td>0.995753</td>\n",
              "      <td>1.00036</td>\n",
              "      <td>1.00358</td>\n",
              "    </tr>\n",
              "    <tr>\n",
              "      <th>616</th>\n",
              "      <td>0.965379</td>\n",
              "      <td>0.96754</td>\n",
              "      <td>0.972162</td>\n",
              "      <td>0.979639</td>\n",
              "      <td>0.990105</td>\n",
              "      <td>1.00305</td>\n",
              "      <td>1.01703</td>\n",
              "      <td>1.02966</td>\n",
              "      <td>1.03803</td>\n",
              "      <td>1.03973</td>\n",
              "      <td>...</td>\n",
              "      <td>1.00083</td>\n",
              "      <td>1.0004</td>\n",
              "      <td>0.998941</td>\n",
              "      <td>0.996212</td>\n",
              "      <td>0.993109</td>\n",
              "      <td>0.991313</td>\n",
              "      <td>0.992192</td>\n",
              "      <td>0.995753</td>\n",
              "      <td>1.00036</td>\n",
              "      <td>1.00358</td>\n",
              "    </tr>\n",
              "    <tr>\n",
              "      <th>827</th>\n",
              "      <td>0.965379</td>\n",
              "      <td>0.96754</td>\n",
              "      <td>0.972162</td>\n",
              "      <td>0.979639</td>\n",
              "      <td>0.990105</td>\n",
              "      <td>1.00305</td>\n",
              "      <td>1.01703</td>\n",
              "      <td>1.02966</td>\n",
              "      <td>1.03803</td>\n",
              "      <td>1.03973</td>\n",
              "      <td>...</td>\n",
              "      <td>1.00083</td>\n",
              "      <td>1.0004</td>\n",
              "      <td>0.998941</td>\n",
              "      <td>0.996212</td>\n",
              "      <td>0.993109</td>\n",
              "      <td>0.991313</td>\n",
              "      <td>0.992192</td>\n",
              "      <td>0.995753</td>\n",
              "      <td>1.00036</td>\n",
              "      <td>1.00358</td>\n",
              "    </tr>\n",
              "    <tr>\n",
              "      <th>516</th>\n",
              "      <td>0.965379</td>\n",
              "      <td>0.96754</td>\n",
              "      <td>0.972162</td>\n",
              "      <td>0.979639</td>\n",
              "      <td>0.990105</td>\n",
              "      <td>1.00305</td>\n",
              "      <td>1.01703</td>\n",
              "      <td>1.02966</td>\n",
              "      <td>1.03803</td>\n",
              "      <td>1.03973</td>\n",
              "      <td>...</td>\n",
              "      <td>1.00083</td>\n",
              "      <td>1.0004</td>\n",
              "      <td>0.998941</td>\n",
              "      <td>0.996212</td>\n",
              "      <td>0.993109</td>\n",
              "      <td>0.991313</td>\n",
              "      <td>0.992192</td>\n",
              "      <td>0.995753</td>\n",
              "      <td>1.00036</td>\n",
              "      <td>1.00358</td>\n",
              "    </tr>\n",
              "    <tr>\n",
              "      <th>1316</th>\n",
              "      <td>0.965379</td>\n",
              "      <td>0.96754</td>\n",
              "      <td>0.972162</td>\n",
              "      <td>0.979639</td>\n",
              "      <td>0.990105</td>\n",
              "      <td>1.00305</td>\n",
              "      <td>1.01703</td>\n",
              "      <td>1.02966</td>\n",
              "      <td>1.03803</td>\n",
              "      <td>1.03973</td>\n",
              "      <td>...</td>\n",
              "      <td>1.00083</td>\n",
              "      <td>1.0004</td>\n",
              "      <td>0.998941</td>\n",
              "      <td>0.996212</td>\n",
              "      <td>0.993109</td>\n",
              "      <td>0.991313</td>\n",
              "      <td>0.992192</td>\n",
              "      <td>0.995753</td>\n",
              "      <td>1.00036</td>\n",
              "      <td>1.00358</td>\n",
              "    </tr>\n",
              "    <tr>\n",
              "      <th>1035</th>\n",
              "      <td>0.965379</td>\n",
              "      <td>0.96754</td>\n",
              "      <td>0.972162</td>\n",
              "      <td>0.979639</td>\n",
              "      <td>0.990105</td>\n",
              "      <td>1.00305</td>\n",
              "      <td>1.01703</td>\n",
              "      <td>1.02966</td>\n",
              "      <td>1.03803</td>\n",
              "      <td>1.03973</td>\n",
              "      <td>...</td>\n",
              "      <td>1.00083</td>\n",
              "      <td>1.0004</td>\n",
              "      <td>0.998941</td>\n",
              "      <td>0.996212</td>\n",
              "      <td>0.993109</td>\n",
              "      <td>0.991313</td>\n",
              "      <td>0.992192</td>\n",
              "      <td>0.995753</td>\n",
              "      <td>1.00036</td>\n",
              "      <td>1.00358</td>\n",
              "    </tr>\n",
              "    <tr>\n",
              "      <th>933</th>\n",
              "      <td>0.965379</td>\n",
              "      <td>0.96754</td>\n",
              "      <td>0.972162</td>\n",
              "      <td>0.979639</td>\n",
              "      <td>0.990105</td>\n",
              "      <td>1.00305</td>\n",
              "      <td>1.01703</td>\n",
              "      <td>1.02966</td>\n",
              "      <td>1.03803</td>\n",
              "      <td>1.03973</td>\n",
              "      <td>...</td>\n",
              "      <td>1.00083</td>\n",
              "      <td>1.0004</td>\n",
              "      <td>0.998941</td>\n",
              "      <td>0.996212</td>\n",
              "      <td>0.993109</td>\n",
              "      <td>0.991313</td>\n",
              "      <td>0.992192</td>\n",
              "      <td>0.995753</td>\n",
              "      <td>1.00036</td>\n",
              "      <td>1.00358</td>\n",
              "    </tr>\n",
              "    <tr>\n",
              "      <th>1021</th>\n",
              "      <td>0.965379</td>\n",
              "      <td>0.96754</td>\n",
              "      <td>0.972162</td>\n",
              "      <td>0.979639</td>\n",
              "      <td>0.990105</td>\n",
              "      <td>1.00305</td>\n",
              "      <td>1.01703</td>\n",
              "      <td>1.02966</td>\n",
              "      <td>1.03803</td>\n",
              "      <td>1.03973</td>\n",
              "      <td>...</td>\n",
              "      <td>1.00083</td>\n",
              "      <td>1.0004</td>\n",
              "      <td>0.998941</td>\n",
              "      <td>0.996212</td>\n",
              "      <td>0.993109</td>\n",
              "      <td>0.991313</td>\n",
              "      <td>0.992192</td>\n",
              "      <td>0.995753</td>\n",
              "      <td>1.00036</td>\n",
              "      <td>1.00358</td>\n",
              "    </tr>\n",
              "    <tr>\n",
              "      <th>603</th>\n",
              "      <td>0.965379</td>\n",
              "      <td>0.96754</td>\n",
              "      <td>0.972162</td>\n",
              "      <td>0.979639</td>\n",
              "      <td>0.990105</td>\n",
              "      <td>1.00305</td>\n",
              "      <td>1.01703</td>\n",
              "      <td>1.02966</td>\n",
              "      <td>1.03803</td>\n",
              "      <td>1.03973</td>\n",
              "      <td>...</td>\n",
              "      <td>1.00083</td>\n",
              "      <td>1.0004</td>\n",
              "      <td>0.998941</td>\n",
              "      <td>0.996212</td>\n",
              "      <td>0.993109</td>\n",
              "      <td>0.991313</td>\n",
              "      <td>0.992192</td>\n",
              "      <td>0.995753</td>\n",
              "      <td>1.00036</td>\n",
              "      <td>1.00358</td>\n",
              "    </tr>\n",
              "    <tr>\n",
              "      <th>526</th>\n",
              "      <td>0.965379</td>\n",
              "      <td>0.96754</td>\n",
              "      <td>0.972162</td>\n",
              "      <td>0.979639</td>\n",
              "      <td>0.990105</td>\n",
              "      <td>1.00305</td>\n",
              "      <td>1.01703</td>\n",
              "      <td>1.02966</td>\n",
              "      <td>1.03803</td>\n",
              "      <td>1.03973</td>\n",
              "      <td>...</td>\n",
              "      <td>1.00083</td>\n",
              "      <td>1.0004</td>\n",
              "      <td>0.998941</td>\n",
              "      <td>0.996212</td>\n",
              "      <td>0.993109</td>\n",
              "      <td>0.991313</td>\n",
              "      <td>0.992192</td>\n",
              "      <td>0.995753</td>\n",
              "      <td>1.00036</td>\n",
              "      <td>1.00358</td>\n",
              "    </tr>\n",
              "    <tr>\n",
              "      <th>613</th>\n",
              "      <td>0.965379</td>\n",
              "      <td>0.96754</td>\n",
              "      <td>0.972162</td>\n",
              "      <td>0.979639</td>\n",
              "      <td>0.990105</td>\n",
              "      <td>1.00305</td>\n",
              "      <td>1.01703</td>\n",
              "      <td>1.02966</td>\n",
              "      <td>1.03803</td>\n",
              "      <td>1.03973</td>\n",
              "      <td>...</td>\n",
              "      <td>1.00083</td>\n",
              "      <td>1.0004</td>\n",
              "      <td>0.998941</td>\n",
              "      <td>0.996212</td>\n",
              "      <td>0.993109</td>\n",
              "      <td>0.991313</td>\n",
              "      <td>0.992192</td>\n",
              "      <td>0.995753</td>\n",
              "      <td>1.00036</td>\n",
              "      <td>1.00358</td>\n",
              "    </tr>\n",
              "    <tr>\n",
              "      <th>123</th>\n",
              "      <td>0.965379</td>\n",
              "      <td>0.96754</td>\n",
              "      <td>0.972162</td>\n",
              "      <td>0.979639</td>\n",
              "      <td>0.990105</td>\n",
              "      <td>1.00305</td>\n",
              "      <td>1.01703</td>\n",
              "      <td>1.02966</td>\n",
              "      <td>1.03803</td>\n",
              "      <td>1.03973</td>\n",
              "      <td>...</td>\n",
              "      <td>1.00083</td>\n",
              "      <td>1.0004</td>\n",
              "      <td>0.998941</td>\n",
              "      <td>0.996212</td>\n",
              "      <td>0.993109</td>\n",
              "      <td>0.991313</td>\n",
              "      <td>0.992192</td>\n",
              "      <td>0.995753</td>\n",
              "      <td>1.00036</td>\n",
              "      <td>1.00358</td>\n",
              "    </tr>\n",
              "    <tr>\n",
              "      <th>527</th>\n",
              "      <td>0.965379</td>\n",
              "      <td>0.96754</td>\n",
              "      <td>0.972162</td>\n",
              "      <td>0.979639</td>\n",
              "      <td>0.990105</td>\n",
              "      <td>1.00305</td>\n",
              "      <td>1.01703</td>\n",
              "      <td>1.02966</td>\n",
              "      <td>1.03803</td>\n",
              "      <td>1.03973</td>\n",
              "      <td>...</td>\n",
              "      <td>1.00083</td>\n",
              "      <td>1.0004</td>\n",
              "      <td>0.998941</td>\n",
              "      <td>0.996212</td>\n",
              "      <td>0.993109</td>\n",
              "      <td>0.991313</td>\n",
              "      <td>0.992192</td>\n",
              "      <td>0.995753</td>\n",
              "      <td>1.00036</td>\n",
              "      <td>1.00358</td>\n",
              "    </tr>\n",
              "    <tr>\n",
              "      <th>935</th>\n",
              "      <td>0.965379</td>\n",
              "      <td>0.96754</td>\n",
              "      <td>0.972162</td>\n",
              "      <td>0.979639</td>\n",
              "      <td>0.990105</td>\n",
              "      <td>1.00305</td>\n",
              "      <td>1.01703</td>\n",
              "      <td>1.02966</td>\n",
              "      <td>1.03803</td>\n",
              "      <td>1.03973</td>\n",
              "      <td>...</td>\n",
              "      <td>1.00083</td>\n",
              "      <td>1.0004</td>\n",
              "      <td>0.998941</td>\n",
              "      <td>0.996212</td>\n",
              "      <td>0.993109</td>\n",
              "      <td>0.991313</td>\n",
              "      <td>0.992192</td>\n",
              "      <td>0.995753</td>\n",
              "      <td>1.00036</td>\n",
              "      <td>1.00358</td>\n",
              "    </tr>\n",
              "    <tr>\n",
              "      <th>102</th>\n",
              "      <td>0.965379</td>\n",
              "      <td>0.96754</td>\n",
              "      <td>0.972162</td>\n",
              "      <td>0.979639</td>\n",
              "      <td>0.990105</td>\n",
              "      <td>1.00305</td>\n",
              "      <td>1.01703</td>\n",
              "      <td>1.02966</td>\n",
              "      <td>1.03803</td>\n",
              "      <td>1.03973</td>\n",
              "      <td>...</td>\n",
              "      <td>1.00083</td>\n",
              "      <td>1.0004</td>\n",
              "      <td>0.998941</td>\n",
              "      <td>0.996212</td>\n",
              "      <td>0.993109</td>\n",
              "      <td>0.991313</td>\n",
              "      <td>0.992192</td>\n",
              "      <td>0.995753</td>\n",
              "      <td>1.00036</td>\n",
              "      <td>1.00358</td>\n",
              "    </tr>\n",
              "    <tr>\n",
              "      <th>614</th>\n",
              "      <td>0.965379</td>\n",
              "      <td>0.96754</td>\n",
              "      <td>0.972162</td>\n",
              "      <td>0.979639</td>\n",
              "      <td>0.990105</td>\n",
              "      <td>1.00305</td>\n",
              "      <td>1.01703</td>\n",
              "      <td>1.02966</td>\n",
              "      <td>1.03803</td>\n",
              "      <td>1.03973</td>\n",
              "      <td>...</td>\n",
              "      <td>1.00083</td>\n",
              "      <td>1.0004</td>\n",
              "      <td>0.998941</td>\n",
              "      <td>0.996212</td>\n",
              "      <td>0.993109</td>\n",
              "      <td>0.991313</td>\n",
              "      <td>0.992192</td>\n",
              "      <td>0.995753</td>\n",
              "      <td>1.00036</td>\n",
              "      <td>1.00358</td>\n",
              "    </tr>\n",
              "    <tr>\n",
              "      <th>829</th>\n",
              "      <td>0.965379</td>\n",
              "      <td>0.96754</td>\n",
              "      <td>0.972162</td>\n",
              "      <td>0.979639</td>\n",
              "      <td>0.990105</td>\n",
              "      <td>1.00305</td>\n",
              "      <td>1.01703</td>\n",
              "      <td>1.02966</td>\n",
              "      <td>1.03803</td>\n",
              "      <td>1.03973</td>\n",
              "      <td>...</td>\n",
              "      <td>1.00083</td>\n",
              "      <td>1.0004</td>\n",
              "      <td>0.998941</td>\n",
              "      <td>0.996212</td>\n",
              "      <td>0.993109</td>\n",
              "      <td>0.991313</td>\n",
              "      <td>0.992192</td>\n",
              "      <td>0.995753</td>\n",
              "      <td>1.00036</td>\n",
              "      <td>1.00358</td>\n",
              "    </tr>\n",
              "    <tr>\n",
              "      <th>1028</th>\n",
              "      <td>0.965379</td>\n",
              "      <td>0.96754</td>\n",
              "      <td>0.972162</td>\n",
              "      <td>0.979639</td>\n",
              "      <td>0.990105</td>\n",
              "      <td>1.00305</td>\n",
              "      <td>1.01703</td>\n",
              "      <td>1.02966</td>\n",
              "      <td>1.03803</td>\n",
              "      <td>1.03973</td>\n",
              "      <td>...</td>\n",
              "      <td>1.00083</td>\n",
              "      <td>1.0004</td>\n",
              "      <td>0.998941</td>\n",
              "      <td>0.996212</td>\n",
              "      <td>0.993109</td>\n",
              "      <td>0.991313</td>\n",
              "      <td>0.992192</td>\n",
              "      <td>0.995753</td>\n",
              "      <td>1.00036</td>\n",
              "      <td>1.00358</td>\n",
              "    </tr>\n",
              "    <tr>\n",
              "      <th>518</th>\n",
              "      <td>0.965379</td>\n",
              "      <td>0.96754</td>\n",
              "      <td>0.972162</td>\n",
              "      <td>0.979639</td>\n",
              "      <td>0.990105</td>\n",
              "      <td>1.00305</td>\n",
              "      <td>1.01703</td>\n",
              "      <td>1.02966</td>\n",
              "      <td>1.03803</td>\n",
              "      <td>1.03973</td>\n",
              "      <td>...</td>\n",
              "      <td>1.00083</td>\n",
              "      <td>1.0004</td>\n",
              "      <td>0.998941</td>\n",
              "      <td>0.996212</td>\n",
              "      <td>0.993109</td>\n",
              "      <td>0.991313</td>\n",
              "      <td>0.992192</td>\n",
              "      <td>0.995753</td>\n",
              "      <td>1.00036</td>\n",
              "      <td>1.00358</td>\n",
              "    </tr>\n",
              "    <tr>\n",
              "      <th>808</th>\n",
              "      <td>0.965379</td>\n",
              "      <td>0.96754</td>\n",
              "      <td>0.972162</td>\n",
              "      <td>0.979639</td>\n",
              "      <td>0.990105</td>\n",
              "      <td>1.00305</td>\n",
              "      <td>1.01703</td>\n",
              "      <td>1.02966</td>\n",
              "      <td>1.03803</td>\n",
              "      <td>1.03973</td>\n",
              "      <td>...</td>\n",
              "      <td>1.00083</td>\n",
              "      <td>1.0004</td>\n",
              "      <td>0.998941</td>\n",
              "      <td>0.996212</td>\n",
              "      <td>0.993109</td>\n",
              "      <td>0.991313</td>\n",
              "      <td>0.992192</td>\n",
              "      <td>0.995753</td>\n",
              "      <td>1.00036</td>\n",
              "      <td>1.00358</td>\n",
              "    </tr>\n",
              "    <tr>\n",
              "      <th>510</th>\n",
              "      <td>0.965379</td>\n",
              "      <td>0.96754</td>\n",
              "      <td>0.972162</td>\n",
              "      <td>0.979639</td>\n",
              "      <td>0.990105</td>\n",
              "      <td>1.00305</td>\n",
              "      <td>1.01703</td>\n",
              "      <td>1.02966</td>\n",
              "      <td>1.03803</td>\n",
              "      <td>1.03973</td>\n",
              "      <td>...</td>\n",
              "      <td>1.00083</td>\n",
              "      <td>1.0004</td>\n",
              "      <td>0.998941</td>\n",
              "      <td>0.996212</td>\n",
              "      <td>0.993109</td>\n",
              "      <td>0.991313</td>\n",
              "      <td>0.992192</td>\n",
              "      <td>0.995753</td>\n",
              "      <td>1.00036</td>\n",
              "      <td>1.00358</td>\n",
              "    </tr>\n",
              "    <tr>\n",
              "      <th>826</th>\n",
              "      <td>0.965379</td>\n",
              "      <td>0.96754</td>\n",
              "      <td>0.972162</td>\n",
              "      <td>0.979639</td>\n",
              "      <td>0.990105</td>\n",
              "      <td>1.00305</td>\n",
              "      <td>1.01703</td>\n",
              "      <td>1.02966</td>\n",
              "      <td>1.03803</td>\n",
              "      <td>1.03973</td>\n",
              "      <td>...</td>\n",
              "      <td>1.00083</td>\n",
              "      <td>1.0004</td>\n",
              "      <td>0.998941</td>\n",
              "      <td>0.996212</td>\n",
              "      <td>0.993109</td>\n",
              "      <td>0.991313</td>\n",
              "      <td>0.992192</td>\n",
              "      <td>0.995753</td>\n",
              "      <td>1.00036</td>\n",
              "      <td>1.00358</td>\n",
              "    </tr>\n",
              "    <tr>\n",
              "      <th>129</th>\n",
              "      <td>0.965379</td>\n",
              "      <td>0.96754</td>\n",
              "      <td>0.972162</td>\n",
              "      <td>0.979639</td>\n",
              "      <td>0.990105</td>\n",
              "      <td>1.00305</td>\n",
              "      <td>1.01703</td>\n",
              "      <td>1.02966</td>\n",
              "      <td>1.03803</td>\n",
              "      <td>1.03973</td>\n",
              "      <td>...</td>\n",
              "      <td>1.00083</td>\n",
              "      <td>1.0004</td>\n",
              "      <td>0.998941</td>\n",
              "      <td>0.996212</td>\n",
              "      <td>0.993109</td>\n",
              "      <td>0.991313</td>\n",
              "      <td>0.992192</td>\n",
              "      <td>0.995753</td>\n",
              "      <td>1.00036</td>\n",
              "      <td>1.00358</td>\n",
              "    </tr>\n",
              "    <tr>\n",
              "      <th>1039</th>\n",
              "      <td>0.965379</td>\n",
              "      <td>0.96754</td>\n",
              "      <td>0.972162</td>\n",
              "      <td>0.979639</td>\n",
              "      <td>0.990105</td>\n",
              "      <td>1.00305</td>\n",
              "      <td>1.01703</td>\n",
              "      <td>1.02966</td>\n",
              "      <td>1.03803</td>\n",
              "      <td>1.03973</td>\n",
              "      <td>...</td>\n",
              "      <td>1.00083</td>\n",
              "      <td>1.0004</td>\n",
              "      <td>0.998941</td>\n",
              "      <td>0.996212</td>\n",
              "      <td>0.993109</td>\n",
              "      <td>0.991313</td>\n",
              "      <td>0.992192</td>\n",
              "      <td>0.995753</td>\n",
              "      <td>1.00036</td>\n",
              "      <td>1.00358</td>\n",
              "    </tr>\n",
              "    <tr>\n",
              "      <th>1118</th>\n",
              "      <td>0.965379</td>\n",
              "      <td>0.96754</td>\n",
              "      <td>0.972162</td>\n",
              "      <td>0.979639</td>\n",
              "      <td>0.990105</td>\n",
              "      <td>1.00305</td>\n",
              "      <td>1.01703</td>\n",
              "      <td>1.02966</td>\n",
              "      <td>1.03803</td>\n",
              "      <td>1.03973</td>\n",
              "      <td>...</td>\n",
              "      <td>1.00083</td>\n",
              "      <td>1.0004</td>\n",
              "      <td>0.998941</td>\n",
              "      <td>0.996212</td>\n",
              "      <td>0.993109</td>\n",
              "      <td>0.991313</td>\n",
              "      <td>0.992192</td>\n",
              "      <td>0.995753</td>\n",
              "      <td>1.00036</td>\n",
              "      <td>1.00358</td>\n",
              "    </tr>\n",
              "  </tbody>\n",
              "</table>\n",
              "<p>136 rows × 64 columns</p>\n",
              "</div>"
            ],
            "text/plain": [
              "Location on Track (m)     0.209    0.228     0.247     0.266     0.284  \\\n",
              "Cell ID                                                                  \n",
              "609                    0.965379  0.96754  0.972162  0.979639  0.990105   \n",
              "529                    0.965379  0.96754  0.972162  0.979639  0.990105   \n",
              "1209                   0.965379  0.96754  0.972162  0.979639  0.990105   \n",
              "416                    0.965379  0.96754  0.972162  0.979639  0.990105   \n",
              "828                    0.965379  0.96754  0.972162  0.979639  0.990105   \n",
              "119                    0.965379  0.96754  0.972162  0.979639  0.990105   \n",
              "410                    0.965379  0.96754  0.972162  0.979639  0.990105   \n",
              "537                    0.965379  0.96754  0.972162  0.979639  0.990105   \n",
              "615                    0.965379  0.96754  0.972162  0.979639  0.990105   \n",
              "819                    0.965379  0.96754  0.972162  0.979639  0.990105   \n",
              "305                    0.965379  0.96754  0.972162  0.979639  0.990105   \n",
              "930                    0.965379  0.96754  0.972162  0.979639  0.990105   \n",
              "103                    0.965379  0.96754  0.972162  0.979639  0.990105   \n",
              "1303                   0.965379  0.96754  0.972162  0.979639  0.990105   \n",
              "532                    0.965379  0.96754  0.972162  0.979639  0.990105   \n",
              "121                    0.965379  0.96754  0.972162  0.979639  0.990105   \n",
              "403                    0.965379  0.96754  0.972162  0.979639  0.990105   \n",
              "927                    0.965379  0.96754  0.972162  0.979639  0.990105   \n",
              "417                    0.965379  0.96754  0.972162  0.979639  0.990105   \n",
              "920                    0.965379  0.96754  0.972162  0.979639  0.990105   \n",
              "422                    0.965379  0.96754  0.972162  0.979639  0.990105   \n",
              "1305                   0.965379  0.96754  0.972162  0.979639  0.990105   \n",
              "822                    0.965379  0.96754  0.972162  0.979639  0.990105   \n",
              "1306                   0.965379  0.96754  0.972162  0.979639  0.990105   \n",
              "931                    0.965379  0.96754  0.972162  0.979639  0.990105   \n",
              "818                    0.965379  0.96754  0.972162  0.979639  0.990105   \n",
              "928                    0.965379  0.96754  0.972162  0.979639  0.990105   \n",
              "411                    0.965379  0.96754  0.972162  0.979639  0.990105   \n",
              "1314                   0.965379  0.96754  0.972162  0.979639  0.990105   \n",
              "1022                   0.965379  0.96754  0.972162  0.979639  0.990105   \n",
              "...                         ...      ...       ...       ...       ...   \n",
              "420                    0.965379  0.96754  0.972162  0.979639  0.990105   \n",
              "1113                   0.965379  0.96754  0.972162  0.979639  0.990105   \n",
              "803                    0.965379  0.96754  0.972162  0.979639  0.990105   \n",
              "913                    0.965379  0.96754  0.972162  0.979639  0.990105   \n",
              "1319                   0.965379  0.96754  0.972162  0.979639  0.990105   \n",
              "1019                   0.965379  0.96754  0.972162  0.979639  0.990105   \n",
              "616                    0.965379  0.96754  0.972162  0.979639  0.990105   \n",
              "827                    0.965379  0.96754  0.972162  0.979639  0.990105   \n",
              "516                    0.965379  0.96754  0.972162  0.979639  0.990105   \n",
              "1316                   0.965379  0.96754  0.972162  0.979639  0.990105   \n",
              "1035                   0.965379  0.96754  0.972162  0.979639  0.990105   \n",
              "933                    0.965379  0.96754  0.972162  0.979639  0.990105   \n",
              "1021                   0.965379  0.96754  0.972162  0.979639  0.990105   \n",
              "603                    0.965379  0.96754  0.972162  0.979639  0.990105   \n",
              "526                    0.965379  0.96754  0.972162  0.979639  0.990105   \n",
              "613                    0.965379  0.96754  0.972162  0.979639  0.990105   \n",
              "123                    0.965379  0.96754  0.972162  0.979639  0.990105   \n",
              "527                    0.965379  0.96754  0.972162  0.979639  0.990105   \n",
              "935                    0.965379  0.96754  0.972162  0.979639  0.990105   \n",
              "102                    0.965379  0.96754  0.972162  0.979639  0.990105   \n",
              "614                    0.965379  0.96754  0.972162  0.979639  0.990105   \n",
              "829                    0.965379  0.96754  0.972162  0.979639  0.990105   \n",
              "1028                   0.965379  0.96754  0.972162  0.979639  0.990105   \n",
              "518                    0.965379  0.96754  0.972162  0.979639  0.990105   \n",
              "808                    0.965379  0.96754  0.972162  0.979639  0.990105   \n",
              "510                    0.965379  0.96754  0.972162  0.979639  0.990105   \n",
              "826                    0.965379  0.96754  0.972162  0.979639  0.990105   \n",
              "129                    0.965379  0.96754  0.972162  0.979639  0.990105   \n",
              "1039                   0.965379  0.96754  0.972162  0.979639  0.990105   \n",
              "1118                   0.965379  0.96754  0.972162  0.979639  0.990105   \n",
              "\n",
              "Location on Track (m)    0.303    0.322    0.341    0.359    0.378   ...     \\\n",
              "Cell ID                                                              ...      \n",
              "609                    1.00305  1.01703  1.02966  1.03803  1.03973   ...      \n",
              "529                    1.00305  1.01703  1.02966  1.03803  1.03973   ...      \n",
              "1209                   1.00305  1.01703  1.02966  1.03803  1.03973   ...      \n",
              "416                    1.00305  1.01703  1.02966  1.03803  1.03973   ...      \n",
              "828                    1.00305  1.01703  1.02966  1.03803  1.03973   ...      \n",
              "119                    1.00305  1.01703  1.02966  1.03803  1.03973   ...      \n",
              "410                    1.00305  1.01703  1.02966  1.03803  1.03973   ...      \n",
              "537                    1.00305  1.01703  1.02966  1.03803  1.03973   ...      \n",
              "615                    1.00305  1.01703  1.02966  1.03803  1.03973   ...      \n",
              "819                    1.00305  1.01703  1.02966  1.03803  1.03973   ...      \n",
              "305                    1.00305  1.01703  1.02966  1.03803  1.03973   ...      \n",
              "930                    1.00305  1.01703  1.02966  1.03803  1.03973   ...      \n",
              "103                    1.00305  1.01703  1.02966  1.03803  1.03973   ...      \n",
              "1303                   1.00305  1.01703  1.02966  1.03803  1.03973   ...      \n",
              "532                    1.00305  1.01703  1.02966  1.03803  1.03973   ...      \n",
              "121                    1.00305  1.01703  1.02966  1.03803  1.03973   ...      \n",
              "403                    1.00305  1.01703  1.02966  1.03803  1.03973   ...      \n",
              "927                    1.00305  1.01703  1.02966  1.03803  1.03973   ...      \n",
              "417                    1.00305  1.01703  1.02966  1.03803  1.03973   ...      \n",
              "920                    1.00305  1.01703  1.02966  1.03803  1.03973   ...      \n",
              "422                    1.00305  1.01703  1.02966  1.03803  1.03973   ...      \n",
              "1305                   1.00305  1.01703  1.02966  1.03803  1.03973   ...      \n",
              "822                    1.00305  1.01703  1.02966  1.03803  1.03973   ...      \n",
              "1306                   1.00305  1.01703  1.02966  1.03803  1.03973   ...      \n",
              "931                    1.00305  1.01703  1.02966  1.03803  1.03973   ...      \n",
              "818                    1.00305  1.01703  1.02966  1.03803  1.03973   ...      \n",
              "928                    1.00305  1.01703  1.02966  1.03803  1.03973   ...      \n",
              "411                    1.00305  1.01703  1.02966  1.03803  1.03973   ...      \n",
              "1314                   1.00305  1.01703  1.02966  1.03803  1.03973   ...      \n",
              "1022                   1.00305  1.01703  1.02966  1.03803  1.03973   ...      \n",
              "...                        ...      ...      ...      ...      ...   ...      \n",
              "420                    1.00305  1.01703  1.02966  1.03803  1.03973   ...      \n",
              "1113                   1.00305  1.01703  1.02966  1.03803  1.03973   ...      \n",
              "803                    1.00305  1.01703  1.02966  1.03803  1.03973   ...      \n",
              "913                    1.00305  1.01703  1.02966  1.03803  1.03973   ...      \n",
              "1319                   1.00305  1.01703  1.02966  1.03803  1.03973   ...      \n",
              "1019                   1.00305  1.01703  1.02966  1.03803  1.03973   ...      \n",
              "616                    1.00305  1.01703  1.02966  1.03803  1.03973   ...      \n",
              "827                    1.00305  1.01703  1.02966  1.03803  1.03973   ...      \n",
              "516                    1.00305  1.01703  1.02966  1.03803  1.03973   ...      \n",
              "1316                   1.00305  1.01703  1.02966  1.03803  1.03973   ...      \n",
              "1035                   1.00305  1.01703  1.02966  1.03803  1.03973   ...      \n",
              "933                    1.00305  1.01703  1.02966  1.03803  1.03973   ...      \n",
              "1021                   1.00305  1.01703  1.02966  1.03803  1.03973   ...      \n",
              "603                    1.00305  1.01703  1.02966  1.03803  1.03973   ...      \n",
              "526                    1.00305  1.01703  1.02966  1.03803  1.03973   ...      \n",
              "613                    1.00305  1.01703  1.02966  1.03803  1.03973   ...      \n",
              "123                    1.00305  1.01703  1.02966  1.03803  1.03973   ...      \n",
              "527                    1.00305  1.01703  1.02966  1.03803  1.03973   ...      \n",
              "935                    1.00305  1.01703  1.02966  1.03803  1.03973   ...      \n",
              "102                    1.00305  1.01703  1.02966  1.03803  1.03973   ...      \n",
              "614                    1.00305  1.01703  1.02966  1.03803  1.03973   ...      \n",
              "829                    1.00305  1.01703  1.02966  1.03803  1.03973   ...      \n",
              "1028                   1.00305  1.01703  1.02966  1.03803  1.03973   ...      \n",
              "518                    1.00305  1.01703  1.02966  1.03803  1.03973   ...      \n",
              "808                    1.00305  1.01703  1.02966  1.03803  1.03973   ...      \n",
              "510                    1.00305  1.01703  1.02966  1.03803  1.03973   ...      \n",
              "826                    1.00305  1.01703  1.02966  1.03803  1.03973   ...      \n",
              "129                    1.00305  1.01703  1.02966  1.03803  1.03973   ...      \n",
              "1039                   1.00305  1.01703  1.02966  1.03803  1.03973   ...      \n",
              "1118                   1.00305  1.01703  1.02966  1.03803  1.03973   ...      \n",
              "\n",
              "Location on Track (m)    1.222   1.241     1.259     1.278     1.297  \\\n",
              "Cell ID                                                                \n",
              "609                    1.00083  1.0004  0.998941  0.996212  0.993109   \n",
              "529                    1.00083  1.0004  0.998941  0.996212  0.993109   \n",
              "1209                   1.00083  1.0004  0.998941  0.996212  0.993109   \n",
              "416                    1.00083  1.0004  0.998941  0.996212  0.993109   \n",
              "828                    1.00083  1.0004  0.998941  0.996212  0.993109   \n",
              "119                    1.00083  1.0004  0.998941  0.996212  0.993109   \n",
              "410                    1.00083  1.0004  0.998941  0.996212  0.993109   \n",
              "537                    1.00083  1.0004  0.998941  0.996212  0.993109   \n",
              "615                    1.00083  1.0004  0.998941  0.996212  0.993109   \n",
              "819                    1.00083  1.0004  0.998941  0.996212  0.993109   \n",
              "305                    1.00083  1.0004  0.998941  0.996212  0.993109   \n",
              "930                    1.00083  1.0004  0.998941  0.996212  0.993109   \n",
              "103                    1.00083  1.0004  0.998941  0.996212  0.993109   \n",
              "1303                   1.00083  1.0004  0.998941  0.996212  0.993109   \n",
              "532                    1.00083  1.0004  0.998941  0.996212  0.993109   \n",
              "121                    1.00083  1.0004  0.998941  0.996212  0.993109   \n",
              "403                    1.00083  1.0004  0.998941  0.996212  0.993109   \n",
              "927                    1.00083  1.0004  0.998941  0.996212  0.993109   \n",
              "417                    1.00083  1.0004  0.998941  0.996212  0.993109   \n",
              "920                    1.00083  1.0004  0.998941  0.996212  0.993109   \n",
              "422                    1.00083  1.0004  0.998941  0.996212  0.993109   \n",
              "1305                   1.00083  1.0004  0.998941  0.996212  0.993109   \n",
              "822                    1.00083  1.0004  0.998941  0.996212  0.993109   \n",
              "1306                   1.00083  1.0004  0.998941  0.996212  0.993109   \n",
              "931                    1.00083  1.0004  0.998941  0.996212  0.993109   \n",
              "818                    1.00083  1.0004  0.998941  0.996212  0.993109   \n",
              "928                    1.00083  1.0004  0.998941  0.996212  0.993109   \n",
              "411                    1.00083  1.0004  0.998941  0.996212  0.993109   \n",
              "1314                   1.00083  1.0004  0.998941  0.996212  0.993109   \n",
              "1022                   1.00083  1.0004  0.998941  0.996212  0.993109   \n",
              "...                        ...     ...       ...       ...       ...   \n",
              "420                    1.00083  1.0004  0.998941  0.996212  0.993109   \n",
              "1113                   1.00083  1.0004  0.998941  0.996212  0.993109   \n",
              "803                    1.00083  1.0004  0.998941  0.996212  0.993109   \n",
              "913                    1.00083  1.0004  0.998941  0.996212  0.993109   \n",
              "1319                   1.00083  1.0004  0.998941  0.996212  0.993109   \n",
              "1019                   1.00083  1.0004  0.998941  0.996212  0.993109   \n",
              "616                    1.00083  1.0004  0.998941  0.996212  0.993109   \n",
              "827                    1.00083  1.0004  0.998941  0.996212  0.993109   \n",
              "516                    1.00083  1.0004  0.998941  0.996212  0.993109   \n",
              "1316                   1.00083  1.0004  0.998941  0.996212  0.993109   \n",
              "1035                   1.00083  1.0004  0.998941  0.996212  0.993109   \n",
              "933                    1.00083  1.0004  0.998941  0.996212  0.993109   \n",
              "1021                   1.00083  1.0004  0.998941  0.996212  0.993109   \n",
              "603                    1.00083  1.0004  0.998941  0.996212  0.993109   \n",
              "526                    1.00083  1.0004  0.998941  0.996212  0.993109   \n",
              "613                    1.00083  1.0004  0.998941  0.996212  0.993109   \n",
              "123                    1.00083  1.0004  0.998941  0.996212  0.993109   \n",
              "527                    1.00083  1.0004  0.998941  0.996212  0.993109   \n",
              "935                    1.00083  1.0004  0.998941  0.996212  0.993109   \n",
              "102                    1.00083  1.0004  0.998941  0.996212  0.993109   \n",
              "614                    1.00083  1.0004  0.998941  0.996212  0.993109   \n",
              "829                    1.00083  1.0004  0.998941  0.996212  0.993109   \n",
              "1028                   1.00083  1.0004  0.998941  0.996212  0.993109   \n",
              "518                    1.00083  1.0004  0.998941  0.996212  0.993109   \n",
              "808                    1.00083  1.0004  0.998941  0.996212  0.993109   \n",
              "510                    1.00083  1.0004  0.998941  0.996212  0.993109   \n",
              "826                    1.00083  1.0004  0.998941  0.996212  0.993109   \n",
              "129                    1.00083  1.0004  0.998941  0.996212  0.993109   \n",
              "1039                   1.00083  1.0004  0.998941  0.996212  0.993109   \n",
              "1118                   1.00083  1.0004  0.998941  0.996212  0.993109   \n",
              "\n",
              "Location on Track (m)     1.316     1.334     1.353    1.372    1.391  \n",
              "Cell ID                                                                \n",
              "609                    0.991313  0.992192  0.995753  1.00036  1.00358  \n",
              "529                    0.991313  0.992192  0.995753  1.00036  1.00358  \n",
              "1209                   0.991313  0.992192  0.995753  1.00036  1.00358  \n",
              "416                    0.991313  0.992192  0.995753  1.00036  1.00358  \n",
              "828                    0.991313  0.992192  0.995753  1.00036  1.00358  \n",
              "119                    0.991313  0.992192  0.995753  1.00036  1.00358  \n",
              "410                    0.991313  0.992192  0.995753  1.00036  1.00358  \n",
              "537                    0.991313  0.992192  0.995753  1.00036  1.00358  \n",
              "615                    0.991313  0.992192  0.995753  1.00036  1.00358  \n",
              "819                    0.991313  0.992192  0.995753  1.00036  1.00358  \n",
              "305                    0.991313  0.992192  0.995753  1.00036  1.00358  \n",
              "930                    0.991313  0.992192  0.995753  1.00036  1.00358  \n",
              "103                    0.991313  0.992192  0.995753  1.00036  1.00358  \n",
              "1303                   0.991313  0.992192  0.995753  1.00036  1.00358  \n",
              "532                    0.991313  0.992192  0.995753  1.00036  1.00358  \n",
              "121                    0.991313  0.992192  0.995753  1.00036  1.00358  \n",
              "403                    0.991313  0.992192  0.995753  1.00036  1.00358  \n",
              "927                    0.991313  0.992192  0.995753  1.00036  1.00358  \n",
              "417                    0.991313  0.992192  0.995753  1.00036  1.00358  \n",
              "920                    0.991313  0.992192  0.995753  1.00036  1.00358  \n",
              "422                    0.991313  0.992192  0.995753  1.00036  1.00358  \n",
              "1305                   0.991313  0.992192  0.995753  1.00036  1.00358  \n",
              "822                    0.991313  0.992192  0.995753  1.00036  1.00358  \n",
              "1306                   0.991313  0.992192  0.995753  1.00036  1.00358  \n",
              "931                    0.991313  0.992192  0.995753  1.00036  1.00358  \n",
              "818                    0.991313  0.992192  0.995753  1.00036  1.00358  \n",
              "928                    0.991313  0.992192  0.995753  1.00036  1.00358  \n",
              "411                    0.991313  0.992192  0.995753  1.00036  1.00358  \n",
              "1314                   0.991313  0.992192  0.995753  1.00036  1.00358  \n",
              "1022                   0.991313  0.992192  0.995753  1.00036  1.00358  \n",
              "...                         ...       ...       ...      ...      ...  \n",
              "420                    0.991313  0.992192  0.995753  1.00036  1.00358  \n",
              "1113                   0.991313  0.992192  0.995753  1.00036  1.00358  \n",
              "803                    0.991313  0.992192  0.995753  1.00036  1.00358  \n",
              "913                    0.991313  0.992192  0.995753  1.00036  1.00358  \n",
              "1319                   0.991313  0.992192  0.995753  1.00036  1.00358  \n",
              "1019                   0.991313  0.992192  0.995753  1.00036  1.00358  \n",
              "616                    0.991313  0.992192  0.995753  1.00036  1.00358  \n",
              "827                    0.991313  0.992192  0.995753  1.00036  1.00358  \n",
              "516                    0.991313  0.992192  0.995753  1.00036  1.00358  \n",
              "1316                   0.991313  0.992192  0.995753  1.00036  1.00358  \n",
              "1035                   0.991313  0.992192  0.995753  1.00036  1.00358  \n",
              "933                    0.991313  0.992192  0.995753  1.00036  1.00358  \n",
              "1021                   0.991313  0.992192  0.995753  1.00036  1.00358  \n",
              "603                    0.991313  0.992192  0.995753  1.00036  1.00358  \n",
              "526                    0.991313  0.992192  0.995753  1.00036  1.00358  \n",
              "613                    0.991313  0.992192  0.995753  1.00036  1.00358  \n",
              "123                    0.991313  0.992192  0.995753  1.00036  1.00358  \n",
              "527                    0.991313  0.992192  0.995753  1.00036  1.00358  \n",
              "935                    0.991313  0.992192  0.995753  1.00036  1.00358  \n",
              "102                    0.991313  0.992192  0.995753  1.00036  1.00358  \n",
              "614                    0.991313  0.992192  0.995753  1.00036  1.00358  \n",
              "829                    0.991313  0.992192  0.995753  1.00036  1.00358  \n",
              "1028                   0.991313  0.992192  0.995753  1.00036  1.00358  \n",
              "518                    0.991313  0.992192  0.995753  1.00036  1.00358  \n",
              "808                    0.991313  0.992192  0.995753  1.00036  1.00358  \n",
              "510                    0.991313  0.992192  0.995753  1.00036  1.00358  \n",
              "826                    0.991313  0.992192  0.995753  1.00036  1.00358  \n",
              "129                    0.991313  0.992192  0.995753  1.00036  1.00358  \n",
              "1039                   0.991313  0.992192  0.995753  1.00036  1.00358  \n",
              "1118                   0.991313  0.992192  0.995753  1.00036  1.00358  \n",
              "\n",
              "[136 rows x 64 columns]"
            ]
          },
          "metadata": {
            "tags": []
          },
          "execution_count": 13
        }
      ]
    },
    {
      "metadata": {
        "id": "Aoe5AmxIC9IJ",
        "colab_type": "text"
      },
      "cell_type": "markdown",
      "source": [
        "#### Sometimes we end up with missing values, and we need to fill in real numbers so that our other algorithm don't get confused.  You can replace missing values with `fillna(x)`, where x is the value to use to replace missing values with.  Replace the missing values in `spike_rates` with 0's.  "
      ]
    },
    {
      "metadata": {
        "id": "qjHtN08JC9IM",
        "colab_type": "code",
        "colab": {}
      },
      "cell_type": "code",
      "source": [
        "spike_rates = spike_rates.fillna(0)"
      ],
      "execution_count": 0,
      "outputs": []
    },
    {
      "metadata": {
        "id": "tfAdDrViC9IR",
        "colab_type": "text"
      },
      "cell_type": "markdown",
      "source": [
        "#### Let's visualize these spike rates using a heatmap.  "
      ]
    },
    {
      "metadata": {
        "id": "-rlNWn6kC9IS",
        "colab_type": "code",
        "outputId": "fe8f8255-f65c-4ec2-d783-a1e58f5637bb",
        "colab": {
          "base_uri": "https://localhost:8080/",
          "height": 333
        }
      },
      "cell_type": "code",
      "source": [
        "hm = sns.heatmap(spike_rates, cbar_kws={'label':'Spike Rate (Hz)'});"
      ],
      "execution_count": 0,
      "outputs": [
        {
          "output_type": "display_data",
          "data": {
            "image/png": "[encoded data removed]",
            "text/plain": [
              "<Figure size 432x288 with 2 Axes>"
            ]
          },
          "metadata": {
            "tags": []
          }
        }
      ]
    },
    {
      "metadata": {
        "id": "FgzyOY7zC9IZ",
        "colab_type": "text"
      },
      "cell_type": "markdown",
      "source": [
        "#### Note that there are actually many more cells shown here than just the dozen or so cell labels.  It is conveniently only drawing a few of the cell ID labels to declutter the screen, but you an make it draw more if you want (ask me about it).  \n",
        "\n",
        "#### Still, this isn't very interesting yet.  The cells that fire at high rates are drowning out the signal from the ones that fire at low rates, in our figure.  And it isn't clear how to order the cells, since the cell ID is arbitrary.  We can solve a bunch of problems at once with a cool visualization called a cluster map. "
      ]
    },
    {
      "metadata": {
        "id": "4MWydJ11C9Ia",
        "colab_type": "text"
      },
      "cell_type": "markdown",
      "source": [
        "### (c)\n",
        "#### First, we can normalize all the cells by computing a new \"normalized\" spike rate that has the same mean value across the track for every cell.  We do this by dividing through by the mean of each row, which is trickier than it sounds.  In the first line, compute the mean spike rate for each cell (each row) using the `.mean()` method on the `spike_rates` dataframe, choosing axis number 1 to compute the mean over.  (0 and 1 are the rows and columns).  "
      ]
    },
    {
      "metadata": {
        "id": "oRz-UoLiC9Ic",
        "colab_type": "code",
        "colab": {}
      },
      "cell_type": "code",
      "source": [
        "spike_rates_mean = spike_rates.mean(axis=1)"
      ],
      "execution_count": 0,
      "outputs": []
    },
    {
      "metadata": {
        "id": "wj1ior__C9Ii",
        "colab_type": "text"
      },
      "cell_type": "markdown",
      "source": [
        "### (d)\n",
        "#### Next, we divide our original `spike_rates` by these mean spike rates. Now you need to switch the axis, because whereas we computed the mean in one direction of the dataframe, we are dividing in the other!"
      ]
    },
    {
      "metadata": {
        "id": "-3CocbXtC9Il",
        "colab_type": "code",
        "colab": {}
      },
      "cell_type": "code",
      "source": [
        "spike_rates_normalized = spike_rates.div(spike_rates_mean, axis=0)"
      ],
      "execution_count": 0,
      "outputs": []
    },
    {
      "metadata": {
        "id": "RyP7EH7qC9Is",
        "colab_type": "text"
      },
      "cell_type": "markdown",
      "source": [
        "### (e)\n",
        "#### Now if we make the heatmap with this normalized data, we should see some patches where specific cells preferentially respond -- their receptive fields!  "
      ]
    },
    {
      "metadata": {
        "id": "dzIOF_m9C9Iu",
        "colab_type": "code",
        "outputId": "3184ff7a-f211-475e-e82d-a63e47310c4e",
        "colab": {
          "base_uri": "https://localhost:8080/",
          "height": 333
        }
      },
      "cell_type": "code",
      "source": [
        "cm = sns.heatmap(spike_rates_normalized, cbar_kws={'label':'Fold-change in spike rate'})"
      ],
      "execution_count": 0,
      "outputs": [
        {
          "output_type": "display_data",
          "data": {
            "image/png": "[encoded data removed]",
            "text/plain": [
              "<Figure size 432x288 with 2 Axes>"
            ]
          },
          "metadata": {
            "tags": []
          }
        }
      ]
    },
    {
      "metadata": {
        "id": "FxbeA6jbC9Iz",
        "colab_type": "text"
      },
      "cell_type": "markdown",
      "source": [
        "#### We still don't know how the cells relate to one another (are their clusters of cells that do the same thing?) The function `sns.clustermap` takes care of this for us by hierarchically sorting the data, and does some other nice things.  For example, it can compute Z-scores, so that instead of just seeing fold-changes relative to the mean, we can see how significant the changes are in a statistical sense.  "
      ]
    },
    {
      "metadata": {
        "id": "1IhEQ1QlC9I1",
        "colab_type": "code",
        "outputId": "aa97c85d-74a9-4621-f9f7-f41cbb868da2",
        "colab": {
          "base_uri": "https://localhost:8080/",
          "height": 727
        }
      },
      "cell_type": "code",
      "source": [
        "cm = sns.clustermap(spike_rates, # We don't even have to do the normalization, as this function will do it for us\n",
        "                    col_cluster=False, # This line is to prevent the times from being clustered\n",
        "                    z_score=0, # This computes Z-scores with respect to time (mean and stdev across time)\n",
        "                    cbar_kws={'label':'Z-score'})"
      ],
      "execution_count": 0,
      "outputs": [
        {
          "output_type": "stream",
          "text": [
            "/usr/local/lib/python3.6/dist-packages/seaborn/matrix.py:682: UserWarning: Attempting to set identical left==right results\n",
            "in singular transformations; automatically expanding.\n",
            "left=0, right=0.0\n",
            "  ax.set_xlim(0, max_dependent_coord * 1.05)\n"
          ],
          "name": "stderr"
        },
        {
          "output_type": "display_data",
          "data": {
            "image/png": "[encoded data removed]",
            "text/plain": [
              "<Figure size 720x720 with 4 Axes>"
            ]
          },
          "metadata": {
            "tags": []
          }
        }
      ]
    },
    {
      "metadata": {
        "id": "Ffgf96oZC9I6",
        "colab_type": "text"
      },
      "cell_type": "markdown",
      "source": [
        "### (f)\n",
        "#### One last touch: let's change the color map to make it easier to tell positive (higher rate than average) from negative (lower rate than average), and the range of colors to highlight significance levels.  For `vmin` and `vmax` set some typical significance cutoffs for a Z-score on the low and high end respectively (or ask me if you haven't seen Z-scores before).  "
      ]
    },
    {
      "metadata": {
        "id": "qgjPGS3HC9I7",
        "colab_type": "code",
        "outputId": "5ac0074b-adbe-4671-c1d3-e4e64dc3aa3b",
        "colab": {
          "base_uri": "https://localhost:8080/",
          "height": 728
        }
      },
      "cell_type": "code",
      "source": [
        "cm = sns.clustermap(spike_rates, \n",
        "                    vmin=-3, # The bluest color will be this Z-score\n",
        "                    vmax=+3, # The reddest color will be this Z-score\n",
        "                    cmap='RdBu_r', # This is the name of a color map, in this case from Blue to Red\n",
        "                    col_cluster=False, \n",
        "                    z_score=0, # This tells the function to compute the Z-score in each row (i.e. for each cell across track locations)\n",
        "                    cbar_kws={'label':'Z-score'})"
      ],
      "execution_count": 0,
      "outputs": [
        {
          "output_type": "stream",
          "text": [
            "/usr/local/lib/python3.6/dist-packages/seaborn/matrix.py:682: UserWarning: Attempting to set identical left==right results\n",
            "in singular transformations; automatically expanding.\n",
            "left=0, right=0.0\n",
            "  ax.set_xlim(0, max_dependent_coord * 1.05)\n"
          ],
          "name": "stderr"
        },
        {
          "output_type": "display_data",
          "data": {
            "image/png": "[encoded data removed]",
            "text/plain": [
              "<Figure size 720x720 with 4 Axes>"
            ]
          },
          "metadata": {
            "tags": []
          }
        }
      ]
    },
    {
      "metadata": {
        "id": "smLU1mB2C9JM",
        "colab_type": "text"
      },
      "cell_type": "markdown",
      "source": [
        "## (3)"
      ]
    },
    {
      "metadata": {
        "id": "3qfeko44C9JN",
        "colab_type": "text"
      },
      "cell_type": "markdown",
      "source": [
        "### The figure above is pretty cool.  We can clearly see which cells are active at which parts of the track, and similarly-responding cells are grouped together.  Now let's use pieces of this figure to answer questions.  "
      ]
    },
    {
      "metadata": {
        "id": "P_rKBXfYC9Jj",
        "colab_type": "text"
      },
      "cell_type": "markdown",
      "source": [
        "### (a)\n",
        "#### First, let's extract one cell from the `spike_rates` data that we computed earlier, in particular cell #1106 (accessible by it's integer representation).  Then let's plot it's tuning curve -- this is just a slice through the figure above, but it shows us very clearly at what part of the track this particular cell responds most.  "
      ]
    },
    {
      "metadata": {
        "id": "aRihOzMAC9Jm",
        "colab_type": "code",
        "outputId": "71077c7e-0541-4485-fac9-8dbed820a49c",
        "colab": {
          "base_uri": "https://localhost:8080/",
          "height": 318
        }
      },
      "cell_type": "code",
      "source": [
        "cell_id = 1106\n",
        "one_cell_spike_rates = spike_rates.loc[1106]\n",
        "one_cell_spike_rates.plot();\n",
        "plt.ylabel('Firing Rate (Hz)');\n",
        "plt.title('Receptive field for cell %d' );"
      ],
      "execution_count": 0,
      "outputs": [
        {
          "output_type": "display_data",
          "data": {
            "image/png": "[encoded data removed]",
            "text/plain": [
              "<Figure size 432x288 with 1 Axes>"
            ]
          },
          "metadata": {
            "tags": []
          }
        }
      ]
    },
    {
      "metadata": {
        "id": "0isiTBkYC9Jq",
        "colab_type": "text"
      },
      "cell_type": "markdown",
      "source": [
        "### (b) \n",
        "#### What is the maximum firing rate for this cell (use `.max()`, and where on the track does it occur (use `.idxmax()`).  Use a print statement to write your answer.  Include units.  "
      ]
    },
    {
      "metadata": {
        "id": "XW1nMzQ7C9Js",
        "colab_type": "code",
        "outputId": "b6da8d86-4206-48ca-99a7-7e0ca18e6092",
        "colab": {
          "base_uri": "https://localhost:8080/",
          "height": 34
        }
      },
      "cell_type": "code",
      "source": [
        "print(\"The maximum is %.3g Hz and it occurs at %.3g m\" % ( one_cell_spike_rates.max(), one_cell_spike_rates.idxmax()))"
      ],
      "execution_count": 0,
      "outputs": [
        {
          "output_type": "stream",
          "text": [
            "The maximum is 1.04 Hz and it occurs at 0.378 m\n"
          ],
          "name": "stdout"
        }
      ]
    },
    {
      "metadata": {
        "id": "kMVE-N2WC9Jv",
        "colab_type": "text"
      },
      "cell_type": "markdown",
      "source": [
        "### (c)\n",
        "#### Compute the width of this tuning curve, defined as the width at half of it's maximum height.  You can use a selector to extract the part that is above half of the maximum height, and then subtract the last and first values of the extract data's index (which is in units of meters).  "
      ]
    },
    {
      "metadata": {
        "id": "gO_4xMTcC9Jw",
        "colab_type": "code",
        "outputId": "771c8258-8aaf-46ef-ccba-3d371b02a047",
        "colab": {
          "base_uri": "https://localhost:8080/",
          "height": 34
        }
      },
      "cell_type": "code",
      "source": [
        "is_it_above_half_max = one_cell_spike_rates > one_cell_spike_rates.max()/2\n",
        "only_those_above_half_max = one_cell_spike_rates[is_it_above_half_max]\n",
        "first_location = only_those_above_half_max[is_it_above_half_max.index[0]] # The left-edge of the width\n",
        "last_location = only_those_above_half_max[is_it_above_half_max.index[-1]] # The right-edge of the width\n",
        "print(\"The width is %.3g m\" % (last_location - first_location))"
      ],
      "execution_count": 0,
      "outputs": [
        {
          "output_type": "stream",
          "text": [
            "The width is 0.0382 m\n"
          ],
          "name": "stdout"
        }
      ]
    },
    {
      "metadata": {
        "id": "jKkqaW9ZC9Jy",
        "colab_type": "text"
      },
      "cell_type": "markdown",
      "source": [
        "## (4)\n",
        "### (a)\n",
        "#### Now let's see if we can use the tuning curves of these cells to decode the position of the rat at a given time.  This means figuring out where the rat is based only on the activity of neurons in its brain.  First, let's extract a narrow range of time (0.2 seconds) and see where the rat was over that period of time.  "
      ]
    },
    {
      "metadata": {
        "id": "DfBOgpf9C9Jz",
        "colab_type": "code",
        "outputId": "5ba83c4b-f08f-4a5b-f6df-7d0f0bab4697",
        "colab": {
          "base_uri": "https://localhost:8080/",
          "height": 187
        }
      },
      "cell_type": "code",
      "source": [
        "t_begin = 19004.8\n",
        "t_end = t_begin + 0.2\n",
        "is_time_in_range = (locations.index > t_begin) & (locations.index < t_end)\n",
        "current_locations = locations[is_time_in_range]['d'] # First elipsis to select matching rows; second elipsis to select the column contains the track location\n",
        "current_locations"
      ],
      "execution_count": 0,
      "outputs": [
        {
          "output_type": "execute_result",
          "data": {
            "text/plain": [
              "t\n",
              "19004.808778    1.127201\n",
              "19004.834378    1.098599\n",
              "19004.859977    1.068989\n",
              "19004.885577    1.042070\n",
              "19004.911177    1.019299\n",
              "19004.936777    1.004831\n",
              "19004.962377    0.986472\n",
              "19004.987977    0.961660\n",
              "Name: d, dtype: float64"
            ]
          },
          "metadata": {
            "tags": []
          },
          "execution_count": 24
        }
      ]
    },
    {
      "metadata": {
        "id": "KKEp2syCC9J2",
        "colab_type": "text"
      },
      "cell_type": "markdown",
      "source": [
        "### (b)\n",
        "#### Next, let's extract only the spikes that occurred in that range of time so we can figure out if they tell us anything.  "
      ]
    },
    {
      "metadata": {
        "id": "eU8VdzegC9J3",
        "colab_type": "code",
        "outputId": "619fa7fa-8ef7-4bae-dd96-cbc670496d7f",
        "colab": {
          "base_uri": "https://localhost:8080/",
          "height": 136
        }
      },
      "cell_type": "code",
      "source": [
        "is_time_in_range = (spikes.index > t_begin) & (spikes.index < t_end) # First elipsis in each case is NOT `locations`, but the data frame containing spike information!\n",
        "current_spikes_cell_ids = spikes[is_time_in_range]['cell_ids'] # Extract the cell_ids for spikes that occurred during this time range\n",
        "current_spikes_cell_ids.head()"
      ],
      "execution_count": 0,
      "outputs": [
        {
          "output_type": "execute_result",
          "data": {
            "text/plain": [
              "t\n",
              "19004.80215     537\n",
              "19004.80230     818\n",
              "19004.80370     119\n",
              "19004.80420     411\n",
              "19004.80505    1209\n",
              "Name: cell_ids, dtype: int64"
            ]
          },
          "metadata": {
            "tags": []
          },
          "execution_count": 25
        }
      ]
    },
    {
      "metadata": {
        "id": "XEtHbjPoC9J6",
        "colab_type": "text"
      },
      "cell_type": "markdown",
      "source": [
        "### (c) \n",
        "#### Bayes theorem says that $p(x | s) = p(s | x) * p(x) / p(s)$\n",
        "#### This means that the probability that the rate is at position `x`, given that know about some spikes `s`, is proportional to the probability of some spikes `s` having occurred at position `x`.  The term $p(s|x)/p(s)$ is basically just the normalized firing rate we computed earlier -- the probability of spiking at one position divided by the probability of spiking at any position.  We also computed the term $p(x)$ earlier -- that is just the normalized duration that the rat spends at each position.  It is pretty constant, so we can just ignore it. \n",
        "#### Let's construct our decoder using Bayes theorem.  First, let's make an empty data frame by re-using an old one and setting all the values to 0.  Then, for each cell that could helps us decode the rat's location, let's add the term $p(s | x) / p(s)$, which is just the normalized spike rate we computed earlier.  "
      ]
    },
    {
      "metadata": {
        "id": "t56oZ9fbC9J7",
        "colab_type": "code",
        "colab": {}
      },
      "cell_type": "code",
      "source": [
        "decoder = spike_rates_normalized.copy() * 0\n",
        "for cell_id in current_spikes_cell_ids:\n",
        "    decoder.loc[cell_id] += spike_rates_normalized.loc[cell_id]"
      ],
      "execution_count": 0,
      "outputs": []
    },
    {
      "metadata": {
        "id": "2fDDTqZgC9J-",
        "colab_type": "text"
      },
      "cell_type": "markdown",
      "source": [
        "### (d)\n",
        "#### Let's allow every cell to contribute equally to decoding.  Take the mean of the decoder across cells with the `.mean()` method, then plot it with the `.plot()` method.  "
      ]
    },
    {
      "metadata": {
        "id": "uba0QbneC9J_",
        "colab_type": "code",
        "outputId": "d30adfb9-4082-4001-9738-218cd92517fc",
        "colab": {
          "base_uri": "https://localhost:8080/",
          "height": 321
        }
      },
      "cell_type": "code",
      "source": [
        "decoder_mean = decoder.mean()\n",
        "decoder_mean.plot() # Use this line to plot"
      ],
      "execution_count": 0,
      "outputs": [
        {
          "output_type": "execute_result",
          "data": {
            "text/plain": [
              "<matplotlib.axes._subplots.AxesSubplot at 0x7f653ebfd860>"
            ]
          },
          "metadata": {
            "tags": []
          },
          "execution_count": 28
        },
        {
          "output_type": "display_data",
          "data": {
            "image/png": "[encoded data removed]",
            "text/plain": [
              "<Figure size 432x288 with 1 Axes>"
            ]
          },
          "metadata": {
            "tags": []
          }
        }
      ]
    },
    {
      "metadata": {
        "id": "4_G8_pGOC9KB",
        "colab_type": "text"
      },
      "cell_type": "markdown",
      "source": [
        "### (e)\n",
        "#### According to our neural decoder, what is the highest probability location?  How does that compare to the rat's actual location during that time?  Do rat neurons know where they are?  "
      ]
    },
    {
      "metadata": {
        "id": "jtYnacT5C9KC",
        "colab_type": "code",
        "colab": {}
      },
      "cell_type": "code",
      "source": [
        "print(\"The decoder says ... and the actual location is ..., which are %s\" % \n",
        "      (decoder_mean.idxmax, , \"INSERT HERE SOMETHING ABOUT HOW CLOSE YOU THINK THEY ARE\")) # First elipsis is deocoder peak location; second elipsis is average real location of the rat during that time period"
      ],
      "execution_count": 0,
      "outputs": []
    },
    {
      "metadata": {
        "id": "u-BtlNFsC9KE",
        "colab_type": "text"
      },
      "cell_type": "markdown",
      "source": [
        "#### In fact, sometimes the neurons encode where the rat is going, not where he is!  "
      ]
    },
    {
      "metadata": {
        "id": "1eh7_CaqC9KF",
        "colab_type": "text"
      },
      "cell_type": "markdown",
      "source": [
        "## (5)\n",
        "#### How much information can spikes convey?  We can compute information by first measuring the uncertainty that we have about location, and then figuring out how much that uncertainty is reduced by decoding some information about location from the spikes.  "
      ]
    },
    {
      "metadata": {
        "id": "8vhfRC1QC9KG",
        "colab_type": "text"
      },
      "cell_type": "markdown",
      "source": [
        "### (a)\n",
        "#### First, let's compute the probability distribution across locations.  Probability distributions must integrate to 1 (or sum to 1), and we achieve this by dividing the durations at each location by the total duration of the experiment.  "
      ]
    },
    {
      "metadata": {
        "id": "Nt00GiIIC9KH",
        "colab_type": "code",
        "colab": {}
      },
      "cell_type": "code",
      "source": [
        "total_duration = durations_at_each_location.sum()\n",
        "probabilty_at_each_location = durations_at_each_location / total_duration\n",
        "plt.plot(bin_centers, probabilty_at_each_location)\n",
        "plt.xlabel('Location on track (m)')\n",
        "plt.ylabel('Probability of being in location');"
      ],
      "execution_count": 0,
      "outputs": []
    },
    {
      "metadata": {
        "id": "lCnop5pmC9KK",
        "colab_type": "text"
      },
      "cell_type": "markdown",
      "source": [
        "### (b)\n",
        "#### Next, we compute the entropy, which measures our uncertainty about location.  We divided up location into 64 bins, which is a really convenient choice for the following reason: If the rat is equally likely to be in each of the 64 location bins, then that is like flipping 6 fair coins -- there are $2^6$ possible states, and all are equally probable, therefore there are 6 bits of entropy.  "
      ]
    },
    {
      "metadata": {
        "id": "AUZ524_aC9KL",
        "colab_type": "code",
        "colab": {}
      },
      "cell_type": "code",
      "source": [
        "# Create an array of 64 values, each containing 1/64th\n",
        "# This is a valid probability distribution, since it adds up to 1.  \n",
        "p = np.ones(64)/64 # Hint: both elipsis are the same number!\n",
        "\n",
        "# Compute the entropy of that distribution\n",
        "h = -np.sum(p * np.log2(p))\n",
        "\n",
        "# Report that entropy\n",
        "print(\"The entropy is %d bits\" % (h))"
      ],
      "execution_count": 0,
      "outputs": []
    },
    {
      "metadata": {
        "id": "_WrLFcSdC9KO",
        "colab_type": "text"
      },
      "cell_type": "markdown",
      "source": [
        "### (c)\n",
        "#### Now we do this for the actual probability distribution $p(x)$ in (a)"
      ]
    },
    {
      "metadata": {
        "id": "usGtqw_JC9KQ",
        "colab_type": "code",
        "colab": {}
      },
      "cell_type": "code",
      "source": [
        "p_x = probabilty_at_each_location\n",
        "h = -np.sum(p * np.log2(p))\n",
        "print(\"The entropy (uncertainty) of the rat's location is %.3g bits\" % (h))"
      ],
      "execution_count": 0,
      "outputs": []
    },
    {
      "metadata": {
        "id": "6pCY-m9BC9KT",
        "colab_type": "text"
      },
      "cell_type": "markdown",
      "source": [
        "### (d)\n",
        "#### Bayes's theorem says that the conditional probability distribution p(x|s), the probability of finding the rat at location `x` given that a spike has occurred, is given by $p(x | s) = p(s | x) * p(x) / p(s)$.  p(x) is what we just looked at in (c).  $p(s | x) / p(s)$ is the normalized spike rate for the cell in question.  Let's assume that the cell that spiked is cell 1106.  Compute $p(x | s)$, and then the new entropy given that the cell spiked. "
      ]
    },
    {
      "metadata": {
        "id": "ZOVoOrviC9KU",
        "colab_type": "code",
        "colab": {}
      },
      "cell_type": "code",
      "source": [
        "p_x_s = p_x * spike_rates_normalized.loc[1106]\n",
        "h_s = -np.sum(p_x* np.log2(p_x_s))\n",
        "print(\"The entropy (uncertainty) of the rat's location is now only %.3g bits\" % (h_s))"
      ],
      "execution_count": 0,
      "outputs": []
    },
    {
      "metadata": {
        "id": "T_IG9IQXC9KW",
        "colab_type": "text"
      },
      "cell_type": "markdown",
      "source": [
        "### (e)\n",
        "#### How much information was gained?  This is just the old entropy minus the new entropy, i.e. the reduction of entropy.  Information is just the reduction of uncertainty.  "
      ]
    },
    {
      "metadata": {
        "id": "mJ3LZPfQC9KX",
        "colab_type": "code",
        "colab": {}
      },
      "cell_type": "code",
      "source": [
        "print(\"The information provided by the spike about the rat's location is %.3g bits\" % (h - h_s))"
      ],
      "execution_count": 0,
      "outputs": []
    },
    {
      "metadata": {
        "id": "RHQxz8uTC9Ka",
        "colab_type": "text"
      },
      "cell_type": "markdown",
      "source": [
        "#### Our uncertainty about the rat's location used to be about the same as that present in the outcome of 6 consecutive coin flips.  Seeing just one spike reduces that by about half a coin flip!"
      ]
    }
  ]
}